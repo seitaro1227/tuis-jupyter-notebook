{
 "cells": [
  {
   "cell_type": "markdown",
   "metadata": {},
   "source": [
    "# pandas入門\n",
    "\n",
    "- パッケージのimport\n",
    "- csvの読み込み\n",
    "- データのクレンジング(head,tail)\n",
    "- DadaFrameとSeries\n",
    "- 列の選択\n",
    "- 行の選択\n",
    "- セルの選択\n",
    "- 行のフィルター\n",
    "- 列の加工\n",
    "- 列の連結\n",
    "- plot 平均気温でもplotしてみるかな。。。"
   ]
  },
  {
   "cell_type": "code",
   "execution_count": 2,
   "metadata": {},
   "outputs": [],
   "source": [
    "# パッケージのimport\n",
    "import pandas as pd"
   ]
  },
  {
   "cell_type": "markdown",
   "metadata": {},
   "source": [
    "## csvの読み込み"
   ]
  },
  {
   "cell_type": "code",
   "execution_count": null,
   "metadata": {},
   "outputs": [],
   "source": [
    "df = pd.read_csv('./data/気象庁のデータ.csv')"
   ]
  },
  {
   "cell_type": "code",
   "execution_count": 2,
   "metadata": {},
   "outputs": [],
   "source": [
    "df = pd.read_csv('./data/気象庁のデータ.csv', encoding='Shift-jis')"
   ]
  },
  {
   "cell_type": "code",
   "execution_count": 8,
   "metadata": {},
   "outputs": [
    {
     "data": {
      "text/html": [
       "<div>\n",
       "<style scoped>\n",
       "    .dataframe tbody tr th:only-of-type {\n",
       "        vertical-align: middle;\n",
       "    }\n",
       "\n",
       "    .dataframe tbody tr th {\n",
       "        vertical-align: top;\n",
       "    }\n",
       "\n",
       "    .dataframe thead th {\n",
       "        text-align: right;\n",
       "    }\n",
       "</style>\n",
       "<table border=\"1\" class=\"dataframe\">\n",
       "  <thead>\n",
       "    <tr style=\"text-align: right;\">\n",
       "      <th></th>\n",
       "      <th></th>\n",
       "      <th></th>\n",
       "      <th></th>\n",
       "      <th></th>\n",
       "      <th></th>\n",
       "      <th></th>\n",
       "      <th>ダウンロードした時刻：2017/11/20 22:35:50</th>\n",
       "    </tr>\n",
       "  </thead>\n",
       "  <tbody>\n",
       "    <tr>\n",
       "      <th rowspan=\"3\" valign=\"top\">NaN</th>\n",
       "      <th>千葉</th>\n",
       "      <th>千葉</th>\n",
       "      <th>千葉</th>\n",
       "      <th>千葉</th>\n",
       "      <th>千葉</th>\n",
       "      <th>千葉</th>\n",
       "      <td>千葉</td>\n",
       "    </tr>\n",
       "    <tr>\n",
       "      <th>平均気温(℃)</th>\n",
       "      <th>最高気温(℃)</th>\n",
       "      <th>最低気温(℃)</th>\n",
       "      <th>降水量の合計(mm)</th>\n",
       "      <th>日照率(％)</th>\n",
       "      <th>平均風速(m/s)</th>\n",
       "      <td>日照時間(時間)</td>\n",
       "    </tr>\n",
       "    <tr>\n",
       "      <th>NaN</th>\n",
       "      <th>NaN</th>\n",
       "      <th>NaN</th>\n",
       "      <th>NaN</th>\n",
       "      <th>NaN</th>\n",
       "      <th>NaN</th>\n",
       "      <td>NaN</td>\n",
       "    </tr>\n",
       "    <tr>\n",
       "      <th>2012年1月</th>\n",
       "      <th>4.4</th>\n",
       "      <th>11.5</th>\n",
       "      <th>-1.9</th>\n",
       "      <th>47.0</th>\n",
       "      <th>57</th>\n",
       "      <th>3.3</th>\n",
       "      <td>176.4</td>\n",
       "    </tr>\n",
       "    <tr>\n",
       "      <th>2012年2月</th>\n",
       "      <th>5.2</th>\n",
       "      <th>17.4</th>\n",
       "      <th>-1.6</th>\n",
       "      <th>103.5</th>\n",
       "      <th>46</th>\n",
       "      <th>3.3</th>\n",
       "      <td>143.5</td>\n",
       "    </tr>\n",
       "  </tbody>\n",
       "</table>\n",
       "</div>"
      ],
      "text/plain": [
       "                                                            ダウンロードした時刻：2017/11/20 22:35:50\n",
       "NaN     千葉      千葉      千葉      千葉         千葉     千葉                                    千葉\n",
       "        平均気温(℃) 最高気温(℃) 最低気温(℃) 降水量の合計(mm) 日照率(％) 平均風速(m/s)                       日照時間(時間)\n",
       "        NaN     NaN     NaN     NaN        NaN    NaN                                  NaN\n",
       "2012年1月 4.4     11.5    -1.9    47.0       57     3.3                                176.4\n",
       "2012年2月 5.2     17.4    -1.6    103.5      46     3.3                                143.5"
      ]
     },
     "execution_count": 8,
     "metadata": {},
     "output_type": "execute_result"
    }
   ],
   "source": [
    "df.head()"
   ]
  },
  {
   "cell_type": "markdown",
   "metadata": {},
   "source": [
    "## データのクレンジング(head,tail)"
   ]
  },
  {
   "cell_type": "code",
   "execution_count": 9,
   "metadata": {},
   "outputs": [
    {
     "data": {
      "text/html": [
       "<div>\n",
       "<style scoped>\n",
       "    .dataframe tbody tr th:only-of-type {\n",
       "        vertical-align: middle;\n",
       "    }\n",
       "\n",
       "    .dataframe tbody tr th {\n",
       "        vertical-align: top;\n",
       "    }\n",
       "\n",
       "    .dataframe thead th {\n",
       "        text-align: right;\n",
       "    }\n",
       "</style>\n",
       "<table border=\"1\" class=\"dataframe\">\n",
       "  <thead>\n",
       "    <tr style=\"text-align: right;\">\n",
       "      <th></th>\n",
       "      <th></th>\n",
       "      <th></th>\n",
       "      <th></th>\n",
       "      <th></th>\n",
       "      <th></th>\n",
       "      <th></th>\n",
       "      <th>ダウンロードした時刻：2017/11/20 22:35:50</th>\n",
       "    </tr>\n",
       "  </thead>\n",
       "  <tbody>\n",
       "    <tr>\n",
       "      <th>2016年8月</th>\n",
       "      <th>27.3</th>\n",
       "      <th>37.7</th>\n",
       "      <th>21.2</th>\n",
       "      <th>250.5</th>\n",
       "      <th>40</th>\n",
       "      <th>4.0</th>\n",
       "      <td>168.8</td>\n",
       "    </tr>\n",
       "    <tr>\n",
       "      <th>2016年9月</th>\n",
       "      <th>24.9</th>\n",
       "      <th>32.3</th>\n",
       "      <th>18.3</th>\n",
       "      <th>286.0</th>\n",
       "      <th>24</th>\n",
       "      <th>3.3</th>\n",
       "      <td>90.3</td>\n",
       "    </tr>\n",
       "    <tr>\n",
       "      <th>2016年10月</th>\n",
       "      <th>19.4</th>\n",
       "      <th>32.8</th>\n",
       "      <th>10.5</th>\n",
       "      <th>104.0</th>\n",
       "      <th>38</th>\n",
       "      <th>3.0</th>\n",
       "      <td>132.2</td>\n",
       "    </tr>\n",
       "    <tr>\n",
       "      <th>2016年11月</th>\n",
       "      <th>12.1</th>\n",
       "      <th>21.3</th>\n",
       "      <th>0.8</th>\n",
       "      <th>147.0</th>\n",
       "      <th>40</th>\n",
       "      <th>2.9</th>\n",
       "      <td>123.1</td>\n",
       "    </tr>\n",
       "    <tr>\n",
       "      <th>2016年12月</th>\n",
       "      <th>9.9</th>\n",
       "      <th>21.7</th>\n",
       "      <th>1.4</th>\n",
       "      <th>57.0</th>\n",
       "      <th>61</th>\n",
       "      <th>3.4</th>\n",
       "      <td>184.6</td>\n",
       "    </tr>\n",
       "  </tbody>\n",
       "</table>\n",
       "</div>"
      ],
      "text/plain": [
       "                                     ダウンロードした時刻：2017/11/20 22:35:50\n",
       "2016年8月  27.3 37.7 21.2 250.5 40 4.0                          168.8\n",
       "2016年9月  24.9 32.3 18.3 286.0 24 3.3                           90.3\n",
       "2016年10月 19.4 32.8 10.5 104.0 38 3.0                          132.2\n",
       "2016年11月 12.1 21.3 0.8  147.0 40 2.9                          123.1\n",
       "2016年12月 9.9  21.7 1.4  57.0  61 3.4                          184.6"
      ]
     },
     "execution_count": 9,
     "metadata": {},
     "output_type": "execute_result"
    }
   ],
   "source": [
    "df.tail()"
   ]
  },
  {
   "cell_type": "markdown",
   "metadata": {},
   "source": [
    "### herd側にいらない行が入っている\n",
    "- 1: いらない\n",
    "- 2: いらない\n",
    "- 3: 列のラベル\n",
    "- 4: いらない\n",
    "- 5: ここからデータ\n",
    "\n",
    "#### とりあえず、参考サイトを確認\n",
    "https://pandas.pydata.org/pandas-docs/stable/generated/pandas.read_csv.html#pandas.read_csv\n",
    "\n",
    "http://pythondatascience.plavox.info/pandas/%E8%A1%8C%E3%83%BB%E5%88%97%E3%82%92%E5%89%8A%E9%99%A4"
   ]
  },
  {
   "cell_type": "code",
   "execution_count": 48,
   "metadata": {},
   "outputs": [
    {
     "data": {
      "text/html": [
       "<div>\n",
       "<style scoped>\n",
       "    .dataframe tbody tr th:only-of-type {\n",
       "        vertical-align: middle;\n",
       "    }\n",
       "\n",
       "    .dataframe tbody tr th {\n",
       "        vertical-align: top;\n",
       "    }\n",
       "\n",
       "    .dataframe thead th {\n",
       "        text-align: right;\n",
       "    }\n",
       "</style>\n",
       "<table border=\"1\" class=\"dataframe\">\n",
       "  <thead>\n",
       "    <tr style=\"text-align: right;\">\n",
       "      <th></th>\n",
       "      <th>Unnamed: 0</th>\n",
       "      <th>平均気温(℃)</th>\n",
       "      <th>最高気温(℃)</th>\n",
       "      <th>最低気温(℃)</th>\n",
       "      <th>降水量の合計(mm)</th>\n",
       "      <th>日照率(％)</th>\n",
       "      <th>平均風速(m/s)</th>\n",
       "      <th>日照時間(時間)</th>\n",
       "    </tr>\n",
       "  </thead>\n",
       "  <tbody>\n",
       "    <tr>\n",
       "      <th>0</th>\n",
       "      <td>NaN</td>\n",
       "      <td>NaN</td>\n",
       "      <td>NaN</td>\n",
       "      <td>NaN</td>\n",
       "      <td>NaN</td>\n",
       "      <td>NaN</td>\n",
       "      <td>NaN</td>\n",
       "      <td>NaN</td>\n",
       "    </tr>\n",
       "    <tr>\n",
       "      <th>1</th>\n",
       "      <td>2012年1月</td>\n",
       "      <td>4.4</td>\n",
       "      <td>11.5</td>\n",
       "      <td>-1.9</td>\n",
       "      <td>47.0</td>\n",
       "      <td>57.0</td>\n",
       "      <td>3.3</td>\n",
       "      <td>176.4</td>\n",
       "    </tr>\n",
       "    <tr>\n",
       "      <th>2</th>\n",
       "      <td>2012年2月</td>\n",
       "      <td>5.2</td>\n",
       "      <td>17.4</td>\n",
       "      <td>-1.6</td>\n",
       "      <td>103.5</td>\n",
       "      <td>46.0</td>\n",
       "      <td>3.3</td>\n",
       "      <td>143.5</td>\n",
       "    </tr>\n",
       "    <tr>\n",
       "      <th>3</th>\n",
       "      <td>2012年3月</td>\n",
       "      <td>8.7</td>\n",
       "      <td>20.4</td>\n",
       "      <td>2.0</td>\n",
       "      <td>134.0</td>\n",
       "      <td>39.0</td>\n",
       "      <td>3.8</td>\n",
       "      <td>143.0</td>\n",
       "    </tr>\n",
       "    <tr>\n",
       "      <th>4</th>\n",
       "      <td>2012年4月</td>\n",
       "      <td>14.0</td>\n",
       "      <td>24.3</td>\n",
       "      <td>4.5</td>\n",
       "      <td>111.0</td>\n",
       "      <td>42.0</td>\n",
       "      <td>4.2</td>\n",
       "      <td>165.8</td>\n",
       "    </tr>\n",
       "  </tbody>\n",
       "</table>\n",
       "</div>"
      ],
      "text/plain": [
       "  Unnamed: 0  平均気温(℃)  最高気温(℃)  最低気温(℃)  降水量の合計(mm)  日照率(％)  平均風速(m/s)  \\\n",
       "0        NaN      NaN      NaN      NaN         NaN     NaN        NaN   \n",
       "1    2012年1月      4.4     11.5     -1.9        47.0    57.0        3.3   \n",
       "2    2012年2月      5.2     17.4     -1.6       103.5    46.0        3.3   \n",
       "3    2012年3月      8.7     20.4      2.0       134.0    39.0        3.8   \n",
       "4    2012年4月     14.0     24.3      4.5       111.0    42.0        4.2   \n",
       "\n",
       "   日照時間(時間)  \n",
       "0       NaN  \n",
       "1     176.4  \n",
       "2     143.5  \n",
       "3     143.0  \n",
       "4     165.8  "
      ]
     },
     "execution_count": 48,
     "metadata": {},
     "output_type": "execute_result"
    }
   ],
   "source": [
    "# headerオプションが使えそう\n",
    "df = pd.read_csv('./data/気象庁のデータ.csv', encoding='Shift-jis',header=2)\n",
    "df.head()"
   ]
  },
  {
   "cell_type": "markdown",
   "metadata": {},
   "source": [
    "まだ0行目にNaNが入っているのでこの行を削除する"
   ]
  },
  {
   "cell_type": "code",
   "execution_count": 49,
   "metadata": {},
   "outputs": [],
   "source": [
    "df = df.dropna()\n",
    "df = df.reset_index(drop=True)"
   ]
  },
  {
   "cell_type": "code",
   "execution_count": 50,
   "metadata": {},
   "outputs": [
    {
     "data": {
      "text/html": [
       "<div>\n",
       "<style scoped>\n",
       "    .dataframe tbody tr th:only-of-type {\n",
       "        vertical-align: middle;\n",
       "    }\n",
       "\n",
       "    .dataframe tbody tr th {\n",
       "        vertical-align: top;\n",
       "    }\n",
       "\n",
       "    .dataframe thead th {\n",
       "        text-align: right;\n",
       "    }\n",
       "</style>\n",
       "<table border=\"1\" class=\"dataframe\">\n",
       "  <thead>\n",
       "    <tr style=\"text-align: right;\">\n",
       "      <th></th>\n",
       "      <th>Unnamed: 0</th>\n",
       "      <th>平均気温(℃)</th>\n",
       "      <th>最高気温(℃)</th>\n",
       "      <th>最低気温(℃)</th>\n",
       "      <th>降水量の合計(mm)</th>\n",
       "      <th>日照率(％)</th>\n",
       "      <th>平均風速(m/s)</th>\n",
       "      <th>日照時間(時間)</th>\n",
       "    </tr>\n",
       "  </thead>\n",
       "  <tbody>\n",
       "    <tr>\n",
       "      <th>0</th>\n",
       "      <td>2012年1月</td>\n",
       "      <td>4.4</td>\n",
       "      <td>11.5</td>\n",
       "      <td>-1.9</td>\n",
       "      <td>47.0</td>\n",
       "      <td>57.0</td>\n",
       "      <td>3.3</td>\n",
       "      <td>176.4</td>\n",
       "    </tr>\n",
       "    <tr>\n",
       "      <th>1</th>\n",
       "      <td>2012年2月</td>\n",
       "      <td>5.2</td>\n",
       "      <td>17.4</td>\n",
       "      <td>-1.6</td>\n",
       "      <td>103.5</td>\n",
       "      <td>46.0</td>\n",
       "      <td>3.3</td>\n",
       "      <td>143.5</td>\n",
       "    </tr>\n",
       "    <tr>\n",
       "      <th>2</th>\n",
       "      <td>2012年3月</td>\n",
       "      <td>8.7</td>\n",
       "      <td>20.4</td>\n",
       "      <td>2.0</td>\n",
       "      <td>134.0</td>\n",
       "      <td>39.0</td>\n",
       "      <td>3.8</td>\n",
       "      <td>143.0</td>\n",
       "    </tr>\n",
       "    <tr>\n",
       "      <th>3</th>\n",
       "      <td>2012年4月</td>\n",
       "      <td>14.0</td>\n",
       "      <td>24.3</td>\n",
       "      <td>4.5</td>\n",
       "      <td>111.0</td>\n",
       "      <td>42.0</td>\n",
       "      <td>4.2</td>\n",
       "      <td>165.8</td>\n",
       "    </tr>\n",
       "    <tr>\n",
       "      <th>4</th>\n",
       "      <td>2012年5月</td>\n",
       "      <td>19.2</td>\n",
       "      <td>27.4</td>\n",
       "      <td>10.5</td>\n",
       "      <td>169.0</td>\n",
       "      <td>45.0</td>\n",
       "      <td>4.0</td>\n",
       "      <td>195.1</td>\n",
       "    </tr>\n",
       "  </tbody>\n",
       "</table>\n",
       "</div>"
      ],
      "text/plain": [
       "  Unnamed: 0  平均気温(℃)  最高気温(℃)  最低気温(℃)  降水量の合計(mm)  日照率(％)  平均風速(m/s)  \\\n",
       "0    2012年1月      4.4     11.5     -1.9        47.0    57.0        3.3   \n",
       "1    2012年2月      5.2     17.4     -1.6       103.5    46.0        3.3   \n",
       "2    2012年3月      8.7     20.4      2.0       134.0    39.0        3.8   \n",
       "3    2012年4月     14.0     24.3      4.5       111.0    42.0        4.2   \n",
       "4    2012年5月     19.2     27.4     10.5       169.0    45.0        4.0   \n",
       "\n",
       "   日照時間(時間)  \n",
       "0     176.4  \n",
       "1     143.5  \n",
       "2     143.0  \n",
       "3     165.8  \n",
       "4     195.1  "
      ]
     },
     "execution_count": 50,
     "metadata": {},
     "output_type": "execute_result"
    }
   ],
   "source": [
    "df.head()"
   ]
  },
  {
   "cell_type": "code",
   "execution_count": 73,
   "metadata": {},
   "outputs": [
    {
     "data": {
      "text/plain": [
       "['Unnamed: 0',\n",
       " '平均気温(℃)',\n",
       " '最高気温(℃)',\n",
       " '最低気温(℃)',\n",
       " '降水量の合計(mm)',\n",
       " '日照率(％)',\n",
       " '平均風速(m/s)',\n",
       " '日照時間(時間)']"
      ]
     },
     "execution_count": 73,
     "metadata": {},
     "output_type": "execute_result"
    }
   ],
   "source": [
    "# listにするとcolumn_nameｓの一覧が取れる\n",
    "list(df)"
   ]
  },
  {
   "cell_type": "markdown",
   "metadata": {},
   "source": [
    "##  DadaFrameとSeries"
   ]
  },
  {
   "cell_type": "markdown",
   "metadata": {},
   "source": [
    "- DataFrameが2次元でつまり表のデータ"
   ]
  },
  {
   "cell_type": "code",
   "execution_count": 52,
   "metadata": {},
   "outputs": [
    {
     "data": {
      "text/plain": [
       "(60, 8)"
      ]
     },
     "execution_count": 52,
     "metadata": {},
     "output_type": "execute_result"
    }
   ],
   "source": [
    "# df.shapeでデータの形がわかる\n",
    "# 8列 x 60行のデータなので\n",
    "df.shape"
   ]
  },
  {
   "cell_type": "markdown",
   "metadata": {},
   "source": [
    "- Seriesが1次元で列のデータ\n",
    "- DataFrameから列を取り出すとSeriesになっている"
   ]
  },
  {
   "cell_type": "code",
   "execution_count": 51,
   "metadata": {
    "scrolled": true
   },
   "outputs": [
    {
     "data": {
      "text/plain": [
       "pandas.core.series.Series"
      ]
     },
     "execution_count": 51,
     "metadata": {},
     "output_type": "execute_result"
    }
   ],
   "source": [
    "series = df['平均気温(℃)']\n",
    "series.__class__"
   ]
  },
  {
   "cell_type": "code",
   "execution_count": 56,
   "metadata": {},
   "outputs": [
    {
     "data": {
      "text/plain": [
       "(60,)"
      ]
     },
     "execution_count": 56,
     "metadata": {},
     "output_type": "execute_result"
    }
   ],
   "source": [
    "# series.shapeでもデータの形がわかる\n",
    "# これは60行のデータなので\n",
    "series.shape"
   ]
  },
  {
   "cell_type": "markdown",
   "metadata": {},
   "source": [
    "- 列の選択\n",
    "- 行の選択\n",
    "- セルの選択\n",
    "\n",
    "http://pythondatascience.plavox.info/pandas/%E8%A1%8C%E3%83%BB%E5%88%97%E3%81%AE%E6%8A%BD%E5%87%BA"
   ]
  },
  {
   "cell_type": "markdown",
   "metadata": {},
   "source": [
    "### 列の選択"
   ]
  },
  {
   "cell_type": "code",
   "execution_count": 74,
   "metadata": {},
   "outputs": [
    {
     "data": {
      "text/plain": [
       "0    11.5\n",
       "1    17.4\n",
       "2    20.4\n",
       "3    24.3\n",
       "4    27.4\n",
       "Name: 最高気温(℃), dtype: float64"
      ]
     },
     "execution_count": 74,
     "metadata": {},
     "output_type": "execute_result"
    }
   ],
   "source": [
    "# 列の選択\n",
    "df['最高気温(℃)'].head()"
   ]
  },
  {
   "cell_type": "code",
   "execution_count": 55,
   "metadata": {
    "collapsed": true
   },
   "outputs": [
    {
     "data": {
      "text/html": [
       "<div>\n",
       "<style scoped>\n",
       "    .dataframe tbody tr th:only-of-type {\n",
       "        vertical-align: middle;\n",
       "    }\n",
       "\n",
       "    .dataframe tbody tr th {\n",
       "        vertical-align: top;\n",
       "    }\n",
       "\n",
       "    .dataframe thead th {\n",
       "        text-align: right;\n",
       "    }\n",
       "</style>\n",
       "<table border=\"1\" class=\"dataframe\">\n",
       "  <thead>\n",
       "    <tr style=\"text-align: right;\">\n",
       "      <th></th>\n",
       "      <th>最高気温(℃)</th>\n",
       "      <th>最高気温(℃)</th>\n",
       "    </tr>\n",
       "  </thead>\n",
       "  <tbody>\n",
       "    <tr>\n",
       "      <th>0</th>\n",
       "      <td>11.5</td>\n",
       "      <td>11.5</td>\n",
       "    </tr>\n",
       "    <tr>\n",
       "      <th>1</th>\n",
       "      <td>17.4</td>\n",
       "      <td>17.4</td>\n",
       "    </tr>\n",
       "    <tr>\n",
       "      <th>2</th>\n",
       "      <td>20.4</td>\n",
       "      <td>20.4</td>\n",
       "    </tr>\n",
       "    <tr>\n",
       "      <th>3</th>\n",
       "      <td>24.3</td>\n",
       "      <td>24.3</td>\n",
       "    </tr>\n",
       "    <tr>\n",
       "      <th>4</th>\n",
       "      <td>27.4</td>\n",
       "      <td>27.4</td>\n",
       "    </tr>\n",
       "  </tbody>\n",
       "</table>\n",
       "</div>"
      ],
      "text/plain": [
       "   最高気温(℃)  最高気温(℃)\n",
       "0     11.5     11.5\n",
       "1     17.4     17.4\n",
       "2     20.4     20.4\n",
       "3     24.3     24.3\n",
       "4     27.4     27.4"
      ]
     },
     "execution_count": 55,
     "metadata": {},
     "output_type": "execute_result"
    }
   ],
   "source": [
    "# 複数の列を取ることも\n",
    "df[['最高気温(℃)','最高気温(℃)']].head()\n"
   ]
  },
  {
   "cell_type": "code",
   "execution_count": 57,
   "metadata": {},
   "outputs": [
    {
     "data": {
      "text/html": [
       "<div>\n",
       "<style scoped>\n",
       "    .dataframe tbody tr th:only-of-type {\n",
       "        vertical-align: middle;\n",
       "    }\n",
       "\n",
       "    .dataframe tbody tr th {\n",
       "        vertical-align: top;\n",
       "    }\n",
       "\n",
       "    .dataframe thead th {\n",
       "        text-align: right;\n",
       "    }\n",
       "</style>\n",
       "<table border=\"1\" class=\"dataframe\">\n",
       "  <thead>\n",
       "    <tr style=\"text-align: right;\">\n",
       "      <th></th>\n",
       "      <th>最高気温(℃)</th>\n",
       "      <th>最高気温(℃)</th>\n",
       "    </tr>\n",
       "  </thead>\n",
       "  <tbody>\n",
       "    <tr>\n",
       "      <th>0</th>\n",
       "      <td>11.5</td>\n",
       "      <td>11.5</td>\n",
       "    </tr>\n",
       "    <tr>\n",
       "      <th>1</th>\n",
       "      <td>17.4</td>\n",
       "      <td>17.4</td>\n",
       "    </tr>\n",
       "    <tr>\n",
       "      <th>2</th>\n",
       "      <td>20.4</td>\n",
       "      <td>20.4</td>\n",
       "    </tr>\n",
       "    <tr>\n",
       "      <th>3</th>\n",
       "      <td>24.3</td>\n",
       "      <td>24.3</td>\n",
       "    </tr>\n",
       "    <tr>\n",
       "      <th>4</th>\n",
       "      <td>27.4</td>\n",
       "      <td>27.4</td>\n",
       "    </tr>\n",
       "  </tbody>\n",
       "</table>\n",
       "</div>"
      ],
      "text/plain": [
       "   最高気温(℃)  最高気温(℃)\n",
       "0     11.5     11.5\n",
       "1     17.4     17.4\n",
       "2     20.4     20.4\n",
       "3     24.3     24.3\n",
       "4     27.4     27.4"
      ]
     },
     "execution_count": 57,
     "metadata": {},
     "output_type": "execute_result"
    }
   ],
   "source": [
    "# df.locで列を指定\n",
    "df.loc[:, ['最高気温(℃)','最高気温(℃)']].head()"
   ]
  },
  {
   "cell_type": "code",
   "execution_count": 62,
   "metadata": {},
   "outputs": [
    {
     "data": {
      "text/html": [
       "<div>\n",
       "<style scoped>\n",
       "    .dataframe tbody tr th:only-of-type {\n",
       "        vertical-align: middle;\n",
       "    }\n",
       "\n",
       "    .dataframe tbody tr th {\n",
       "        vertical-align: top;\n",
       "    }\n",
       "\n",
       "    .dataframe thead th {\n",
       "        text-align: right;\n",
       "    }\n",
       "</style>\n",
       "<table border=\"1\" class=\"dataframe\">\n",
       "  <thead>\n",
       "    <tr style=\"text-align: right;\">\n",
       "      <th></th>\n",
       "      <th>Unnamed: 0</th>\n",
       "      <th>平均気温(℃)</th>\n",
       "      <th>最低気温(℃)</th>\n",
       "    </tr>\n",
       "  </thead>\n",
       "  <tbody>\n",
       "    <tr>\n",
       "      <th>0</th>\n",
       "      <td>2012年1月</td>\n",
       "      <td>4.4</td>\n",
       "      <td>-1.9</td>\n",
       "    </tr>\n",
       "    <tr>\n",
       "      <th>1</th>\n",
       "      <td>2012年2月</td>\n",
       "      <td>5.2</td>\n",
       "      <td>-1.6</td>\n",
       "    </tr>\n",
       "    <tr>\n",
       "      <th>2</th>\n",
       "      <td>2012年3月</td>\n",
       "      <td>8.7</td>\n",
       "      <td>2.0</td>\n",
       "    </tr>\n",
       "    <tr>\n",
       "      <th>3</th>\n",
       "      <td>2012年4月</td>\n",
       "      <td>14.0</td>\n",
       "      <td>4.5</td>\n",
       "    </tr>\n",
       "    <tr>\n",
       "      <th>4</th>\n",
       "      <td>2012年5月</td>\n",
       "      <td>19.2</td>\n",
       "      <td>10.5</td>\n",
       "    </tr>\n",
       "  </tbody>\n",
       "</table>\n",
       "</div>"
      ],
      "text/plain": [
       "  Unnamed: 0  平均気温(℃)  最低気温(℃)\n",
       "0    2012年1月      4.4     -1.9\n",
       "1    2012年2月      5.2     -1.6\n",
       "2    2012年3月      8.7      2.0\n",
       "3    2012年4月     14.0      4.5\n",
       "4    2012年5月     19.2     10.5"
      ]
     },
     "execution_count": 62,
     "metadata": {},
     "output_type": "execute_result"
    }
   ],
   "source": [
    "# df.ilocで列の番号を\n",
    "df.iloc[:, [0,1,3]].head()"
   ]
  },
  {
   "cell_type": "markdown",
   "metadata": {},
   "source": [
    "### 行の選択"
   ]
  },
  {
   "cell_type": "code",
   "execution_count": 53,
   "metadata": {
    "scrolled": true
   },
   "outputs": [
    {
     "data": {
      "text/html": [
       "<div>\n",
       "<style scoped>\n",
       "    .dataframe tbody tr th:only-of-type {\n",
       "        vertical-align: middle;\n",
       "    }\n",
       "\n",
       "    .dataframe tbody tr th {\n",
       "        vertical-align: top;\n",
       "    }\n",
       "\n",
       "    .dataframe thead th {\n",
       "        text-align: right;\n",
       "    }\n",
       "</style>\n",
       "<table border=\"1\" class=\"dataframe\">\n",
       "  <thead>\n",
       "    <tr style=\"text-align: right;\">\n",
       "      <th></th>\n",
       "      <th>Unnamed: 0</th>\n",
       "      <th>平均気温(℃)</th>\n",
       "      <th>最高気温(℃)</th>\n",
       "      <th>最低気温(℃)</th>\n",
       "      <th>降水量の合計(mm)</th>\n",
       "      <th>日照率(％)</th>\n",
       "      <th>平均風速(m/s)</th>\n",
       "      <th>日照時間(時間)</th>\n",
       "    </tr>\n",
       "  </thead>\n",
       "  <tbody>\n",
       "    <tr>\n",
       "      <th>0</th>\n",
       "      <td>2012年1月</td>\n",
       "      <td>4.4</td>\n",
       "      <td>11.5</td>\n",
       "      <td>-1.9</td>\n",
       "      <td>47.0</td>\n",
       "      <td>57.0</td>\n",
       "      <td>3.3</td>\n",
       "      <td>176.4</td>\n",
       "    </tr>\n",
       "    <tr>\n",
       "      <th>1</th>\n",
       "      <td>2012年2月</td>\n",
       "      <td>5.2</td>\n",
       "      <td>17.4</td>\n",
       "      <td>-1.6</td>\n",
       "      <td>103.5</td>\n",
       "      <td>46.0</td>\n",
       "      <td>3.3</td>\n",
       "      <td>143.5</td>\n",
       "    </tr>\n",
       "    <tr>\n",
       "      <th>2</th>\n",
       "      <td>2012年3月</td>\n",
       "      <td>8.7</td>\n",
       "      <td>20.4</td>\n",
       "      <td>2.0</td>\n",
       "      <td>134.0</td>\n",
       "      <td>39.0</td>\n",
       "      <td>3.8</td>\n",
       "      <td>143.0</td>\n",
       "    </tr>\n",
       "  </tbody>\n",
       "</table>\n",
       "</div>"
      ],
      "text/plain": [
       "  Unnamed: 0  平均気温(℃)  最高気温(℃)  最低気温(℃)  降水量の合計(mm)  日照率(％)  平均風速(m/s)  \\\n",
       "0    2012年1月      4.4     11.5     -1.9        47.0    57.0        3.3   \n",
       "1    2012年2月      5.2     17.4     -1.6       103.5    46.0        3.3   \n",
       "2    2012年3月      8.7     20.4      2.0       134.0    39.0        3.8   \n",
       "\n",
       "   日照時間(時間)  \n",
       "0     176.4  \n",
       "1     143.5  \n",
       "2     143.0  "
      ]
     },
     "execution_count": 53,
     "metadata": {},
     "output_type": "execute_result"
    }
   ],
   "source": [
    "# 行の選択\n",
    "df[:3]# 最初から3行目まで"
   ]
  },
  {
   "cell_type": "code",
   "execution_count": 54,
   "metadata": {},
   "outputs": [
    {
     "data": {
      "text/html": [
       "<div>\n",
       "<style scoped>\n",
       "    .dataframe tbody tr th:only-of-type {\n",
       "        vertical-align: middle;\n",
       "    }\n",
       "\n",
       "    .dataframe tbody tr th {\n",
       "        vertical-align: top;\n",
       "    }\n",
       "\n",
       "    .dataframe thead th {\n",
       "        text-align: right;\n",
       "    }\n",
       "</style>\n",
       "<table border=\"1\" class=\"dataframe\">\n",
       "  <thead>\n",
       "    <tr style=\"text-align: right;\">\n",
       "      <th></th>\n",
       "      <th>Unnamed: 0</th>\n",
       "      <th>平均気温(℃)</th>\n",
       "      <th>最高気温(℃)</th>\n",
       "      <th>最低気温(℃)</th>\n",
       "      <th>降水量の合計(mm)</th>\n",
       "      <th>日照率(％)</th>\n",
       "      <th>平均風速(m/s)</th>\n",
       "      <th>日照時間(時間)</th>\n",
       "    </tr>\n",
       "  </thead>\n",
       "  <tbody>\n",
       "    <tr>\n",
       "      <th>0</th>\n",
       "      <td>2012年1月</td>\n",
       "      <td>4.4</td>\n",
       "      <td>11.5</td>\n",
       "      <td>-1.9</td>\n",
       "      <td>47.0</td>\n",
       "      <td>57.0</td>\n",
       "      <td>3.3</td>\n",
       "      <td>176.4</td>\n",
       "    </tr>\n",
       "    <tr>\n",
       "      <th>1</th>\n",
       "      <td>2012年2月</td>\n",
       "      <td>5.2</td>\n",
       "      <td>17.4</td>\n",
       "      <td>-1.6</td>\n",
       "      <td>103.5</td>\n",
       "      <td>46.0</td>\n",
       "      <td>3.3</td>\n",
       "      <td>143.5</td>\n",
       "    </tr>\n",
       "    <tr>\n",
       "      <th>2</th>\n",
       "      <td>2012年3月</td>\n",
       "      <td>8.7</td>\n",
       "      <td>20.4</td>\n",
       "      <td>2.0</td>\n",
       "      <td>134.0</td>\n",
       "      <td>39.0</td>\n",
       "      <td>3.8</td>\n",
       "      <td>143.0</td>\n",
       "    </tr>\n",
       "    <tr>\n",
       "      <th>3</th>\n",
       "      <td>2012年4月</td>\n",
       "      <td>14.0</td>\n",
       "      <td>24.3</td>\n",
       "      <td>4.5</td>\n",
       "      <td>111.0</td>\n",
       "      <td>42.0</td>\n",
       "      <td>4.2</td>\n",
       "      <td>165.8</td>\n",
       "    </tr>\n",
       "  </tbody>\n",
       "</table>\n",
       "</div>"
      ],
      "text/plain": [
       "  Unnamed: 0  平均気温(℃)  最高気温(℃)  最低気温(℃)  降水量の合計(mm)  日照率(％)  平均風速(m/s)  \\\n",
       "0    2012年1月      4.4     11.5     -1.9        47.0    57.0        3.3   \n",
       "1    2012年2月      5.2     17.4     -1.6       103.5    46.0        3.3   \n",
       "2    2012年3月      8.7     20.4      2.0       134.0    39.0        3.8   \n",
       "3    2012年4月     14.0     24.3      4.5       111.0    42.0        4.2   \n",
       "\n",
       "   日照時間(時間)  \n",
       "0     176.4  \n",
       "1     143.5  \n",
       "2     143.0  \n",
       "3     165.8  "
      ]
     },
     "execution_count": 54,
     "metadata": {},
     "output_type": "execute_result"
    }
   ],
   "source": [
    "df.loc[:3]"
   ]
  },
  {
   "cell_type": "code",
   "execution_count": 78,
   "metadata": {},
   "outputs": [
    {
     "data": {
      "text/html": [
       "<div>\n",
       "<style scoped>\n",
       "    .dataframe tbody tr th:only-of-type {\n",
       "        vertical-align: middle;\n",
       "    }\n",
       "\n",
       "    .dataframe tbody tr th {\n",
       "        vertical-align: top;\n",
       "    }\n",
       "\n",
       "    .dataframe thead th {\n",
       "        text-align: right;\n",
       "    }\n",
       "</style>\n",
       "<table border=\"1\" class=\"dataframe\">\n",
       "  <thead>\n",
       "    <tr style=\"text-align: right;\">\n",
       "      <th></th>\n",
       "      <th>Unnamed: 0</th>\n",
       "      <th>平均気温(℃)</th>\n",
       "      <th>最高気温(℃)</th>\n",
       "      <th>最低気温(℃)</th>\n",
       "      <th>降水量の合計(mm)</th>\n",
       "      <th>日照率(％)</th>\n",
       "      <th>平均風速(m/s)</th>\n",
       "      <th>日照時間(時間)</th>\n",
       "    </tr>\n",
       "  </thead>\n",
       "  <tbody>\n",
       "    <tr>\n",
       "      <th>2</th>\n",
       "      <td>2012年3月</td>\n",
       "      <td>8.7</td>\n",
       "      <td>20.4</td>\n",
       "      <td>2.0</td>\n",
       "      <td>134.0</td>\n",
       "      <td>39.0</td>\n",
       "      <td>3.8</td>\n",
       "      <td>143.0</td>\n",
       "    </tr>\n",
       "    <tr>\n",
       "      <th>3</th>\n",
       "      <td>2012年4月</td>\n",
       "      <td>14.0</td>\n",
       "      <td>24.3</td>\n",
       "      <td>4.5</td>\n",
       "      <td>111.0</td>\n",
       "      <td>42.0</td>\n",
       "      <td>4.2</td>\n",
       "      <td>165.8</td>\n",
       "    </tr>\n",
       "    <tr>\n",
       "      <th>4</th>\n",
       "      <td>2012年5月</td>\n",
       "      <td>19.2</td>\n",
       "      <td>27.4</td>\n",
       "      <td>10.5</td>\n",
       "      <td>169.0</td>\n",
       "      <td>45.0</td>\n",
       "      <td>4.0</td>\n",
       "      <td>195.1</td>\n",
       "    </tr>\n",
       "  </tbody>\n",
       "</table>\n",
       "</div>"
      ],
      "text/plain": [
       "  Unnamed: 0  平均気温(℃)  最高気温(℃)  最低気温(℃)  降水量の合計(mm)  日照率(％)  平均風速(m/s)  \\\n",
       "2    2012年3月      8.7     20.4      2.0       134.0    39.0        3.8   \n",
       "3    2012年4月     14.0     24.3      4.5       111.0    42.0        4.2   \n",
       "4    2012年5月     19.2     27.4     10.5       169.0    45.0        4.0   \n",
       "\n",
       "   日照時間(時間)  \n",
       "2     143.0  \n",
       "3     165.8  \n",
       "4     195.1  "
      ]
     },
     "execution_count": 78,
     "metadata": {},
     "output_type": "execute_result"
    }
   ],
   "source": [
    "df[2:5] # 2行目よりあとから5行目まで"
   ]
  },
  {
   "cell_type": "code",
   "execution_count": 79,
   "metadata": {},
   "outputs": [
    {
     "data": {
      "text/html": [
       "<div>\n",
       "<style scoped>\n",
       "    .dataframe tbody tr th:only-of-type {\n",
       "        vertical-align: middle;\n",
       "    }\n",
       "\n",
       "    .dataframe tbody tr th {\n",
       "        vertical-align: top;\n",
       "    }\n",
       "\n",
       "    .dataframe thead th {\n",
       "        text-align: right;\n",
       "    }\n",
       "</style>\n",
       "<table border=\"1\" class=\"dataframe\">\n",
       "  <thead>\n",
       "    <tr style=\"text-align: right;\">\n",
       "      <th></th>\n",
       "      <th>Unnamed: 0</th>\n",
       "      <th>平均気温(℃)</th>\n",
       "      <th>最高気温(℃)</th>\n",
       "      <th>最低気温(℃)</th>\n",
       "      <th>降水量の合計(mm)</th>\n",
       "      <th>日照率(％)</th>\n",
       "      <th>平均風速(m/s)</th>\n",
       "      <th>日照時間(時間)</th>\n",
       "    </tr>\n",
       "  </thead>\n",
       "  <tbody>\n",
       "    <tr>\n",
       "      <th>58</th>\n",
       "      <td>2016年11月</td>\n",
       "      <td>12.1</td>\n",
       "      <td>21.3</td>\n",
       "      <td>0.8</td>\n",
       "      <td>147.0</td>\n",
       "      <td>40.0</td>\n",
       "      <td>2.9</td>\n",
       "      <td>123.1</td>\n",
       "    </tr>\n",
       "    <tr>\n",
       "      <th>59</th>\n",
       "      <td>2016年12月</td>\n",
       "      <td>9.9</td>\n",
       "      <td>21.7</td>\n",
       "      <td>1.4</td>\n",
       "      <td>57.0</td>\n",
       "      <td>61.0</td>\n",
       "      <td>3.4</td>\n",
       "      <td>184.6</td>\n",
       "    </tr>\n",
       "  </tbody>\n",
       "</table>\n",
       "</div>"
      ],
      "text/plain": [
       "   Unnamed: 0  平均気温(℃)  最高気温(℃)  最低気温(℃)  降水量の合計(mm)  日照率(％)  平均風速(m/s)  \\\n",
       "58   2016年11月     12.1     21.3      0.8       147.0    40.0        2.9   \n",
       "59   2016年12月      9.9     21.7      1.4        57.0    61.0        3.4   \n",
       "\n",
       "    日照時間(時間)  \n",
       "58     123.1  \n",
       "59     184.6  "
      ]
     },
     "execution_count": 79,
     "metadata": {},
     "output_type": "execute_result"
    }
   ],
   "source": [
    "df[58:]# 58行目よりあとから最後まで"
   ]
  },
  {
   "cell_type": "code",
   "execution_count": 64,
   "metadata": {},
   "outputs": [
    {
     "data": {
      "text/html": [
       "<div>\n",
       "<style scoped>\n",
       "    .dataframe tbody tr th:only-of-type {\n",
       "        vertical-align: middle;\n",
       "    }\n",
       "\n",
       "    .dataframe tbody tr th {\n",
       "        vertical-align: top;\n",
       "    }\n",
       "\n",
       "    .dataframe thead th {\n",
       "        text-align: right;\n",
       "    }\n",
       "</style>\n",
       "<table border=\"1\" class=\"dataframe\">\n",
       "  <thead>\n",
       "    <tr style=\"text-align: right;\">\n",
       "      <th></th>\n",
       "      <th>Unnamed: 0</th>\n",
       "      <th>平均気温(℃)</th>\n",
       "      <th>最高気温(℃)</th>\n",
       "      <th>最低気温(℃)</th>\n",
       "      <th>降水量の合計(mm)</th>\n",
       "      <th>日照率(％)</th>\n",
       "      <th>平均風速(m/s)</th>\n",
       "      <th>日照時間(時間)</th>\n",
       "    </tr>\n",
       "  </thead>\n",
       "  <tbody>\n",
       "    <tr>\n",
       "      <th>0</th>\n",
       "      <td>2012年1月</td>\n",
       "      <td>4.4</td>\n",
       "      <td>11.5</td>\n",
       "      <td>-1.9</td>\n",
       "      <td>47.0</td>\n",
       "      <td>57.0</td>\n",
       "      <td>3.3</td>\n",
       "      <td>176.4</td>\n",
       "    </tr>\n",
       "    <tr>\n",
       "      <th>1</th>\n",
       "      <td>2012年2月</td>\n",
       "      <td>5.2</td>\n",
       "      <td>17.4</td>\n",
       "      <td>-1.6</td>\n",
       "      <td>103.5</td>\n",
       "      <td>46.0</td>\n",
       "      <td>3.3</td>\n",
       "      <td>143.5</td>\n",
       "    </tr>\n",
       "    <tr>\n",
       "      <th>3</th>\n",
       "      <td>2012年4月</td>\n",
       "      <td>14.0</td>\n",
       "      <td>24.3</td>\n",
       "      <td>4.5</td>\n",
       "      <td>111.0</td>\n",
       "      <td>42.0</td>\n",
       "      <td>4.2</td>\n",
       "      <td>165.8</td>\n",
       "    </tr>\n",
       "  </tbody>\n",
       "</table>\n",
       "</div>"
      ],
      "text/plain": [
       "  Unnamed: 0  平均気温(℃)  最高気温(℃)  最低気温(℃)  降水量の合計(mm)  日照率(％)  平均風速(m/s)  \\\n",
       "0    2012年1月      4.4     11.5     -1.9        47.0    57.0        3.3   \n",
       "1    2012年2月      5.2     17.4     -1.6       103.5    46.0        3.3   \n",
       "3    2012年4月     14.0     24.3      4.5       111.0    42.0        4.2   \n",
       "\n",
       "   日照時間(時間)  \n",
       "0     176.4  \n",
       "1     143.5  \n",
       "3     165.8  "
      ]
     },
     "execution_count": 64,
     "metadata": {},
     "output_type": "execute_result"
    }
   ],
   "source": [
    "# ilocで行の番号を指定して表示\n",
    "df.iloc[[0,1,3]]"
   ]
  },
  {
   "cell_type": "markdown",
   "metadata": {},
   "source": [
    "### cellを取得する"
   ]
  },
  {
   "cell_type": "code",
   "execution_count": 66,
   "metadata": {
    "collapsed": true
   },
   "outputs": [
    {
     "data": {
      "text/plain": [
       "4.4000000000000004"
      ]
     },
     "execution_count": 66,
     "metadata": {},
     "output_type": "execute_result"
    }
   ],
   "source": [
    "# Series→添字で取得\n",
    "df['平均気温(℃)'][0]\n",
    "# df['平均気温(℃)']でSeriesを取得\n",
    "# Seriesからindexをしていして取得しているだけ"
   ]
  },
  {
   "cell_type": "code",
   "execution_count": 71,
   "metadata": {},
   "outputs": [
    {
     "data": {
      "text/plain": [
       "5.2000000000000002"
      ]
     },
     "execution_count": 71,
     "metadata": {},
     "output_type": "execute_result"
    }
   ],
   "source": [
    "# ilocで取得\n",
    "# ilocではindex番号を指定できる\n",
    "# 2012年2月の平均気温(℃)なので 5.2\n",
    "df.iloc[1,1]"
   ]
  },
  {
   "cell_type": "code",
   "execution_count": 72,
   "metadata": {},
   "outputs": [
    {
     "data": {
      "text/html": [
       "<div>\n",
       "<style scoped>\n",
       "    .dataframe tbody tr th:only-of-type {\n",
       "        vertical-align: middle;\n",
       "    }\n",
       "\n",
       "    .dataframe tbody tr th {\n",
       "        vertical-align: top;\n",
       "    }\n",
       "\n",
       "    .dataframe thead th {\n",
       "        text-align: right;\n",
       "    }\n",
       "</style>\n",
       "<table border=\"1\" class=\"dataframe\">\n",
       "  <thead>\n",
       "    <tr style=\"text-align: right;\">\n",
       "      <th></th>\n",
       "      <th>Unnamed: 0</th>\n",
       "      <th>平均気温(℃)</th>\n",
       "      <th>最高気温(℃)</th>\n",
       "      <th>最低気温(℃)</th>\n",
       "      <th>降水量の合計(mm)</th>\n",
       "      <th>日照率(％)</th>\n",
       "      <th>平均風速(m/s)</th>\n",
       "      <th>日照時間(時間)</th>\n",
       "    </tr>\n",
       "  </thead>\n",
       "  <tbody>\n",
       "    <tr>\n",
       "      <th>0</th>\n",
       "      <td>2012年1月</td>\n",
       "      <td>4.4</td>\n",
       "      <td>11.5</td>\n",
       "      <td>-1.9</td>\n",
       "      <td>47.0</td>\n",
       "      <td>57.0</td>\n",
       "      <td>3.3</td>\n",
       "      <td>176.4</td>\n",
       "    </tr>\n",
       "    <tr>\n",
       "      <th>1</th>\n",
       "      <td>2012年2月</td>\n",
       "      <td>5.2</td>\n",
       "      <td>17.4</td>\n",
       "      <td>-1.6</td>\n",
       "      <td>103.5</td>\n",
       "      <td>46.0</td>\n",
       "      <td>3.3</td>\n",
       "      <td>143.5</td>\n",
       "    </tr>\n",
       "    <tr>\n",
       "      <th>2</th>\n",
       "      <td>2012年3月</td>\n",
       "      <td>8.7</td>\n",
       "      <td>20.4</td>\n",
       "      <td>2.0</td>\n",
       "      <td>134.0</td>\n",
       "      <td>39.0</td>\n",
       "      <td>3.8</td>\n",
       "      <td>143.0</td>\n",
       "    </tr>\n",
       "    <tr>\n",
       "      <th>3</th>\n",
       "      <td>2012年4月</td>\n",
       "      <td>14.0</td>\n",
       "      <td>24.3</td>\n",
       "      <td>4.5</td>\n",
       "      <td>111.0</td>\n",
       "      <td>42.0</td>\n",
       "      <td>4.2</td>\n",
       "      <td>165.8</td>\n",
       "    </tr>\n",
       "    <tr>\n",
       "      <th>4</th>\n",
       "      <td>2012年5月</td>\n",
       "      <td>19.2</td>\n",
       "      <td>27.4</td>\n",
       "      <td>10.5</td>\n",
       "      <td>169.0</td>\n",
       "      <td>45.0</td>\n",
       "      <td>4.0</td>\n",
       "      <td>195.1</td>\n",
       "    </tr>\n",
       "  </tbody>\n",
       "</table>\n",
       "</div>"
      ],
      "text/plain": [
       "  Unnamed: 0  平均気温(℃)  最高気温(℃)  最低気温(℃)  降水量の合計(mm)  日照率(％)  平均風速(m/s)  \\\n",
       "0    2012年1月      4.4     11.5     -1.9        47.0    57.0        3.3   \n",
       "1    2012年2月      5.2     17.4     -1.6       103.5    46.0        3.3   \n",
       "2    2012年3月      8.7     20.4      2.0       134.0    39.0        3.8   \n",
       "3    2012年4月     14.0     24.3      4.5       111.0    42.0        4.2   \n",
       "4    2012年5月     19.2     27.4     10.5       169.0    45.0        4.0   \n",
       "\n",
       "   日照時間(時間)  \n",
       "0     176.4  \n",
       "1     143.5  \n",
       "2     143.0  \n",
       "3     165.8  \n",
       "4     195.1  "
      ]
     },
     "execution_count": 72,
     "metadata": {},
     "output_type": "execute_result"
    }
   ],
   "source": [
    "df.head()"
   ]
  },
  {
   "cell_type": "code",
   "execution_count": 74,
   "metadata": {},
   "outputs": [
    {
     "data": {
      "text/plain": [
       "1    17.4\n",
       "2    20.4\n",
       "Name: 最高気温(℃), dtype: float64"
      ]
     },
     "execution_count": 74,
     "metadata": {},
     "output_type": "execute_result"
    }
   ],
   "source": [
    "# 部分的に切り出すこともできる\n",
    "# 1:3は1以上3未満\n",
    "df.iloc[1:3,2]"
   ]
  },
  {
   "cell_type": "code",
   "execution_count": 69,
   "metadata": {
    "collapsed": true
   },
   "outputs": [
    {
     "data": {
      "text/plain": [
       "5.2000000000000002"
      ]
     },
     "execution_count": 69,
     "metadata": {},
     "output_type": "execute_result"
    }
   ],
   "source": [
    "# ixで取得\n",
    "df.ix[1,1]"
   ]
  },
  {
   "cell_type": "code",
   "execution_count": 76,
   "metadata": {
    "collapsed": true
   },
   "outputs": [
    {
     "data": {
      "text/plain": [
       "39.0"
      ]
     },
     "execution_count": 76,
     "metadata": {},
     "output_type": "execute_result"
    }
   ],
   "source": [
    "# ixではラベル名も使える取得\n",
    "# 2012年3月\tの日照率(％)\n",
    "df.ix[2,'日照率(％)']"
   ]
  },
  {
   "cell_type": "markdown",
   "metadata": {},
   "source": [
    "※pandasはオプションがめちゃくちゃ多いのでこれ以外にも取得方法がある。。。\n",
    "\n",
    "http://ailaby.com/lox_iloc_ix/"
   ]
  },
  {
   "cell_type": "markdown",
   "metadata": {},
   "source": [
    "- 行のフィルター\n",
    "- 列の加工\n",
    "- 列の連結"
   ]
  },
  {
   "cell_type": "markdown",
   "metadata": {},
   "source": [
    "### 行のフィルター"
   ]
  },
  {
   "cell_type": "code",
   "execution_count": 77,
   "metadata": {},
   "outputs": [
    {
     "data": {
      "text/html": [
       "<div>\n",
       "<style scoped>\n",
       "    .dataframe tbody tr th:only-of-type {\n",
       "        vertical-align: middle;\n",
       "    }\n",
       "\n",
       "    .dataframe tbody tr th {\n",
       "        vertical-align: top;\n",
       "    }\n",
       "\n",
       "    .dataframe thead th {\n",
       "        text-align: right;\n",
       "    }\n",
       "</style>\n",
       "<table border=\"1\" class=\"dataframe\">\n",
       "  <thead>\n",
       "    <tr style=\"text-align: right;\">\n",
       "      <th></th>\n",
       "      <th>Unnamed: 0</th>\n",
       "      <th>平均気温(℃)</th>\n",
       "      <th>最高気温(℃)</th>\n",
       "      <th>最低気温(℃)</th>\n",
       "      <th>降水量の合計(mm)</th>\n",
       "      <th>日照率(％)</th>\n",
       "      <th>平均風速(m/s)</th>\n",
       "      <th>日照時間(時間)</th>\n",
       "    </tr>\n",
       "  </thead>\n",
       "  <tbody>\n",
       "    <tr>\n",
       "      <th>0</th>\n",
       "      <td>2012年1月</td>\n",
       "      <td>4.4</td>\n",
       "      <td>11.5</td>\n",
       "      <td>-1.9</td>\n",
       "      <td>47.0</td>\n",
       "      <td>57.0</td>\n",
       "      <td>3.3</td>\n",
       "      <td>176.4</td>\n",
       "    </tr>\n",
       "    <tr>\n",
       "      <th>1</th>\n",
       "      <td>2012年2月</td>\n",
       "      <td>5.2</td>\n",
       "      <td>17.4</td>\n",
       "      <td>-1.6</td>\n",
       "      <td>103.5</td>\n",
       "      <td>46.0</td>\n",
       "      <td>3.3</td>\n",
       "      <td>143.5</td>\n",
       "    </tr>\n",
       "    <tr>\n",
       "      <th>11</th>\n",
       "      <td>2012年12月</td>\n",
       "      <td>7.1</td>\n",
       "      <td>18.9</td>\n",
       "      <td>-1.1</td>\n",
       "      <td>75.0</td>\n",
       "      <td>58.0</td>\n",
       "      <td>3.3</td>\n",
       "      <td>174.0</td>\n",
       "    </tr>\n",
       "    <tr>\n",
       "      <th>12</th>\n",
       "      <td>2013年1月</td>\n",
       "      <td>5.3</td>\n",
       "      <td>13.8</td>\n",
       "      <td>-0.8</td>\n",
       "      <td>77.0</td>\n",
       "      <td>67.0</td>\n",
       "      <td>3.7</td>\n",
       "      <td>207.4</td>\n",
       "    </tr>\n",
       "    <tr>\n",
       "      <th>13</th>\n",
       "      <td>2013年2月</td>\n",
       "      <td>5.8</td>\n",
       "      <td>19.2</td>\n",
       "      <td>-0.9</td>\n",
       "      <td>46.5</td>\n",
       "      <td>55.0</td>\n",
       "      <td>3.8</td>\n",
       "      <td>166.1</td>\n",
       "    </tr>\n",
       "    <tr>\n",
       "      <th>24</th>\n",
       "      <td>2014年1月</td>\n",
       "      <td>6.2</td>\n",
       "      <td>15.6</td>\n",
       "      <td>-1.0</td>\n",
       "      <td>44.0</td>\n",
       "      <td>63.0</td>\n",
       "      <td>3.3</td>\n",
       "      <td>194.4</td>\n",
       "    </tr>\n",
       "    <tr>\n",
       "      <th>25</th>\n",
       "      <td>2014年2月</td>\n",
       "      <td>5.7</td>\n",
       "      <td>20.3</td>\n",
       "      <td>-1.6</td>\n",
       "      <td>148.5</td>\n",
       "      <td>39.0</td>\n",
       "      <td>3.3</td>\n",
       "      <td>118.7</td>\n",
       "    </tr>\n",
       "    <tr>\n",
       "      <th>37</th>\n",
       "      <td>2015年2月</td>\n",
       "      <td>6.2</td>\n",
       "      <td>19.9</td>\n",
       "      <td>-0.8</td>\n",
       "      <td>62.0</td>\n",
       "      <td>55.0</td>\n",
       "      <td>3.7</td>\n",
       "      <td>166.5</td>\n",
       "    </tr>\n",
       "    <tr>\n",
       "      <th>48</th>\n",
       "      <td>2016年1月</td>\n",
       "      <td>6.7</td>\n",
       "      <td>15.9</td>\n",
       "      <td>-0.6</td>\n",
       "      <td>80.0</td>\n",
       "      <td>63.0</td>\n",
       "      <td>3.1</td>\n",
       "      <td>194.2</td>\n",
       "    </tr>\n",
       "  </tbody>\n",
       "</table>\n",
       "</div>"
      ],
      "text/plain": [
       "   Unnamed: 0  平均気温(℃)  最高気温(℃)  最低気温(℃)  降水量の合計(mm)  日照率(％)  平均風速(m/s)  \\\n",
       "0     2012年1月      4.4     11.5     -1.9        47.0    57.0        3.3   \n",
       "1     2012年2月      5.2     17.4     -1.6       103.5    46.0        3.3   \n",
       "11   2012年12月      7.1     18.9     -1.1        75.0    58.0        3.3   \n",
       "12    2013年1月      5.3     13.8     -0.8        77.0    67.0        3.7   \n",
       "13    2013年2月      5.8     19.2     -0.9        46.5    55.0        3.8   \n",
       "24    2014年1月      6.2     15.6     -1.0        44.0    63.0        3.3   \n",
       "25    2014年2月      5.7     20.3     -1.6       148.5    39.0        3.3   \n",
       "37    2015年2月      6.2     19.9     -0.8        62.0    55.0        3.7   \n",
       "48    2016年1月      6.7     15.9     -0.6        80.0    63.0        3.1   \n",
       "\n",
       "    日照時間(時間)  \n",
       "0      176.4  \n",
       "1      143.5  \n",
       "11     174.0  \n",
       "12     207.4  \n",
       "13     166.1  \n",
       "24     194.4  \n",
       "25     118.7  \n",
       "37     166.5  \n",
       "48     194.2  "
      ]
     },
     "execution_count": 77,
     "metadata": {},
     "output_type": "execute_result"
    }
   ],
   "source": [
    "# 特定の値を持つ行だけ表示したい\n",
    "# 例えば最低気温が0度以下の寒い月\n",
    "df[df['最低気温(℃)']<0]"
   ]
  },
  {
   "cell_type": "code",
   "execution_count": 79,
   "metadata": {
    "collapsed": true
   },
   "outputs": [
    {
     "data": {
      "text/plain": [
       "0      True\n",
       "1      True\n",
       "2     False\n",
       "3     False\n",
       "4     False\n",
       "5     False\n",
       "6     False\n",
       "7     False\n",
       "8     False\n",
       "9     False\n",
       "10    False\n",
       "11     True\n",
       "12     True\n",
       "13     True\n",
       "14    False\n",
       "15    False\n",
       "16    False\n",
       "17    False\n",
       "18    False\n",
       "19    False\n",
       "20    False\n",
       "21    False\n",
       "22    False\n",
       "23    False\n",
       "24     True\n",
       "25     True\n",
       "26    False\n",
       "27    False\n",
       "28    False\n",
       "29    False\n",
       "30    False\n",
       "31    False\n",
       "32    False\n",
       "33    False\n",
       "34    False\n",
       "35    False\n",
       "36    False\n",
       "37     True\n",
       "38    False\n",
       "39    False\n",
       "40    False\n",
       "41    False\n",
       "42    False\n",
       "43    False\n",
       "44    False\n",
       "45    False\n",
       "46    False\n",
       "47    False\n",
       "48     True\n",
       "49    False\n",
       "50    False\n",
       "51    False\n",
       "52    False\n",
       "53    False\n",
       "54    False\n",
       "55    False\n",
       "56    False\n",
       "57    False\n",
       "58    False\n",
       "59    False\n",
       "Name: 最低気温(℃), dtype: bool"
      ]
     },
     "execution_count": 79,
     "metadata": {},
     "output_type": "execute_result"
    }
   ],
   "source": [
    "# なぜこれができるかというと\n",
    "is_lowest = df['最低気温(℃)']<0\n",
    "# これはboolのSeriesを返す\n",
    "is_lowest"
   ]
  },
  {
   "cell_type": "code",
   "execution_count": 80,
   "metadata": {},
   "outputs": [
    {
     "data": {
      "text/html": [
       "<div>\n",
       "<style scoped>\n",
       "    .dataframe tbody tr th:only-of-type {\n",
       "        vertical-align: middle;\n",
       "    }\n",
       "\n",
       "    .dataframe tbody tr th {\n",
       "        vertical-align: top;\n",
       "    }\n",
       "\n",
       "    .dataframe thead th {\n",
       "        text-align: right;\n",
       "    }\n",
       "</style>\n",
       "<table border=\"1\" class=\"dataframe\">\n",
       "  <thead>\n",
       "    <tr style=\"text-align: right;\">\n",
       "      <th></th>\n",
       "      <th>Unnamed: 0</th>\n",
       "      <th>平均気温(℃)</th>\n",
       "      <th>最高気温(℃)</th>\n",
       "      <th>最低気温(℃)</th>\n",
       "      <th>降水量の合計(mm)</th>\n",
       "      <th>日照率(％)</th>\n",
       "      <th>平均風速(m/s)</th>\n",
       "      <th>日照時間(時間)</th>\n",
       "    </tr>\n",
       "  </thead>\n",
       "  <tbody>\n",
       "    <tr>\n",
       "      <th>0</th>\n",
       "      <td>2012年1月</td>\n",
       "      <td>4.4</td>\n",
       "      <td>11.5</td>\n",
       "      <td>-1.9</td>\n",
       "      <td>47.0</td>\n",
       "      <td>57.0</td>\n",
       "      <td>3.3</td>\n",
       "      <td>176.4</td>\n",
       "    </tr>\n",
       "    <tr>\n",
       "      <th>1</th>\n",
       "      <td>2012年2月</td>\n",
       "      <td>5.2</td>\n",
       "      <td>17.4</td>\n",
       "      <td>-1.6</td>\n",
       "      <td>103.5</td>\n",
       "      <td>46.0</td>\n",
       "      <td>3.3</td>\n",
       "      <td>143.5</td>\n",
       "    </tr>\n",
       "    <tr>\n",
       "      <th>11</th>\n",
       "      <td>2012年12月</td>\n",
       "      <td>7.1</td>\n",
       "      <td>18.9</td>\n",
       "      <td>-1.1</td>\n",
       "      <td>75.0</td>\n",
       "      <td>58.0</td>\n",
       "      <td>3.3</td>\n",
       "      <td>174.0</td>\n",
       "    </tr>\n",
       "    <tr>\n",
       "      <th>12</th>\n",
       "      <td>2013年1月</td>\n",
       "      <td>5.3</td>\n",
       "      <td>13.8</td>\n",
       "      <td>-0.8</td>\n",
       "      <td>77.0</td>\n",
       "      <td>67.0</td>\n",
       "      <td>3.7</td>\n",
       "      <td>207.4</td>\n",
       "    </tr>\n",
       "    <tr>\n",
       "      <th>13</th>\n",
       "      <td>2013年2月</td>\n",
       "      <td>5.8</td>\n",
       "      <td>19.2</td>\n",
       "      <td>-0.9</td>\n",
       "      <td>46.5</td>\n",
       "      <td>55.0</td>\n",
       "      <td>3.8</td>\n",
       "      <td>166.1</td>\n",
       "    </tr>\n",
       "    <tr>\n",
       "      <th>24</th>\n",
       "      <td>2014年1月</td>\n",
       "      <td>6.2</td>\n",
       "      <td>15.6</td>\n",
       "      <td>-1.0</td>\n",
       "      <td>44.0</td>\n",
       "      <td>63.0</td>\n",
       "      <td>3.3</td>\n",
       "      <td>194.4</td>\n",
       "    </tr>\n",
       "    <tr>\n",
       "      <th>25</th>\n",
       "      <td>2014年2月</td>\n",
       "      <td>5.7</td>\n",
       "      <td>20.3</td>\n",
       "      <td>-1.6</td>\n",
       "      <td>148.5</td>\n",
       "      <td>39.0</td>\n",
       "      <td>3.3</td>\n",
       "      <td>118.7</td>\n",
       "    </tr>\n",
       "    <tr>\n",
       "      <th>37</th>\n",
       "      <td>2015年2月</td>\n",
       "      <td>6.2</td>\n",
       "      <td>19.9</td>\n",
       "      <td>-0.8</td>\n",
       "      <td>62.0</td>\n",
       "      <td>55.0</td>\n",
       "      <td>3.7</td>\n",
       "      <td>166.5</td>\n",
       "    </tr>\n",
       "    <tr>\n",
       "      <th>48</th>\n",
       "      <td>2016年1月</td>\n",
       "      <td>6.7</td>\n",
       "      <td>15.9</td>\n",
       "      <td>-0.6</td>\n",
       "      <td>80.0</td>\n",
       "      <td>63.0</td>\n",
       "      <td>3.1</td>\n",
       "      <td>194.2</td>\n",
       "    </tr>\n",
       "  </tbody>\n",
       "</table>\n",
       "</div>"
      ],
      "text/plain": [
       "   Unnamed: 0  平均気温(℃)  最高気温(℃)  最低気温(℃)  降水量の合計(mm)  日照率(％)  平均風速(m/s)  \\\n",
       "0     2012年1月      4.4     11.5     -1.9        47.0    57.0        3.3   \n",
       "1     2012年2月      5.2     17.4     -1.6       103.5    46.0        3.3   \n",
       "11   2012年12月      7.1     18.9     -1.1        75.0    58.0        3.3   \n",
       "12    2013年1月      5.3     13.8     -0.8        77.0    67.0        3.7   \n",
       "13    2013年2月      5.8     19.2     -0.9        46.5    55.0        3.8   \n",
       "24    2014年1月      6.2     15.6     -1.0        44.0    63.0        3.3   \n",
       "25    2014年2月      5.7     20.3     -1.6       148.5    39.0        3.3   \n",
       "37    2015年2月      6.2     19.9     -0.8        62.0    55.0        3.7   \n",
       "48    2016年1月      6.7     15.9     -0.6        80.0    63.0        3.1   \n",
       "\n",
       "    日照時間(時間)  \n",
       "0      176.4  \n",
       "1      143.5  \n",
       "11     174.0  \n",
       "12     207.4  \n",
       "13     166.1  \n",
       "24     194.4  \n",
       "25     118.7  \n",
       "37     166.5  \n",
       "48     194.2  "
      ]
     },
     "execution_count": 80,
     "metadata": {},
     "output_type": "execute_result"
    }
   ],
   "source": [
    "# このboolのSeriesでDataFrameを絞り込むことができる\n",
    "df[is_lowest]"
   ]
  },
  {
   "cell_type": "markdown",
   "metadata": {},
   "source": [
    "### 列の加工\n",
    "df.apply(func)を使って日付の文字列をTimestamp型に加工する\n",
    "\n",
    " http://pppurple.hatenablog.com/entry/2016/06/27/022310"
   ]
  },
  {
   "cell_type": "code",
   "execution_count": 81,
   "metadata": {},
   "outputs": [
    {
     "data": {
      "text/html": [
       "<div>\n",
       "<style scoped>\n",
       "    .dataframe tbody tr th:only-of-type {\n",
       "        vertical-align: middle;\n",
       "    }\n",
       "\n",
       "    .dataframe tbody tr th {\n",
       "        vertical-align: top;\n",
       "    }\n",
       "\n",
       "    .dataframe thead th {\n",
       "        text-align: right;\n",
       "    }\n",
       "</style>\n",
       "<table border=\"1\" class=\"dataframe\">\n",
       "  <thead>\n",
       "    <tr style=\"text-align: right;\">\n",
       "      <th></th>\n",
       "      <th>date_str</th>\n",
       "      <th>平均気温(℃)</th>\n",
       "      <th>最高気温(℃)</th>\n",
       "      <th>最低気温(℃)</th>\n",
       "      <th>降水量の合計(mm)</th>\n",
       "      <th>日照率(％)</th>\n",
       "      <th>平均風速(m/s)</th>\n",
       "      <th>日照時間(時間)</th>\n",
       "    </tr>\n",
       "  </thead>\n",
       "  <tbody>\n",
       "    <tr>\n",
       "      <th>0</th>\n",
       "      <td>2012年1月</td>\n",
       "      <td>4.4</td>\n",
       "      <td>11.5</td>\n",
       "      <td>-1.9</td>\n",
       "      <td>47.0</td>\n",
       "      <td>57.0</td>\n",
       "      <td>3.3</td>\n",
       "      <td>176.4</td>\n",
       "    </tr>\n",
       "    <tr>\n",
       "      <th>1</th>\n",
       "      <td>2012年2月</td>\n",
       "      <td>5.2</td>\n",
       "      <td>17.4</td>\n",
       "      <td>-1.6</td>\n",
       "      <td>103.5</td>\n",
       "      <td>46.0</td>\n",
       "      <td>3.3</td>\n",
       "      <td>143.5</td>\n",
       "    </tr>\n",
       "    <tr>\n",
       "      <th>2</th>\n",
       "      <td>2012年3月</td>\n",
       "      <td>8.7</td>\n",
       "      <td>20.4</td>\n",
       "      <td>2.0</td>\n",
       "      <td>134.0</td>\n",
       "      <td>39.0</td>\n",
       "      <td>3.8</td>\n",
       "      <td>143.0</td>\n",
       "    </tr>\n",
       "    <tr>\n",
       "      <th>3</th>\n",
       "      <td>2012年4月</td>\n",
       "      <td>14.0</td>\n",
       "      <td>24.3</td>\n",
       "      <td>4.5</td>\n",
       "      <td>111.0</td>\n",
       "      <td>42.0</td>\n",
       "      <td>4.2</td>\n",
       "      <td>165.8</td>\n",
       "    </tr>\n",
       "    <tr>\n",
       "      <th>4</th>\n",
       "      <td>2012年5月</td>\n",
       "      <td>19.2</td>\n",
       "      <td>27.4</td>\n",
       "      <td>10.5</td>\n",
       "      <td>169.0</td>\n",
       "      <td>45.0</td>\n",
       "      <td>4.0</td>\n",
       "      <td>195.1</td>\n",
       "    </tr>\n",
       "  </tbody>\n",
       "</table>\n",
       "</div>"
      ],
      "text/plain": [
       "  date_str  平均気温(℃)  最高気温(℃)  最低気温(℃)  降水量の合計(mm)  日照率(％)  平均風速(m/s)  日照時間(時間)\n",
       "0  2012年1月      4.4     11.5     -1.9        47.0    57.0        3.3     176.4\n",
       "1  2012年2月      5.2     17.4     -1.6       103.5    46.0        3.3     143.5\n",
       "2  2012年3月      8.7     20.4      2.0       134.0    39.0        3.8     143.0\n",
       "3  2012年4月     14.0     24.3      4.5       111.0    42.0        4.2     165.8\n",
       "4  2012年5月     19.2     27.4     10.5       169.0    45.0        4.0     195.1"
      ]
     },
     "execution_count": 81,
     "metadata": {},
     "output_type": "execute_result"
    }
   ],
   "source": [
    "# その前に、列名をrename\n",
    "df = df.rename(columns={'Unnamed: 0': 'date_str'})\n",
    "df.head()"
   ]
  },
  {
   "cell_type": "markdown",
   "metadata": {},
   "source": [
    "#### strからdatetime型への変換"
   ]
  },
  {
   "cell_type": "code",
   "execution_count": 91,
   "metadata": {},
   "outputs": [
    {
     "data": {
      "text/plain": [
       "Timestamp('2017-01-01 00:00:00')"
      ]
     },
     "execution_count": 91,
     "metadata": {},
     "output_type": "execute_result"
    }
   ],
   "source": [
    "# pandasでは文字列をdatetimeに変換する関数\n",
    "# https://pandas.pydata.org/pandas-docs/stable/generated/pandas.to_datetime.html\n",
    "data_str = '2017年1月'\n",
    "pd.to_datetime(data_str , format='%Y年%m月', errors='ignore')"
   ]
  },
  {
   "cell_type": "markdown",
   "metadata": {},
   "source": [
    "### df.apply関数でdataframeを一括処理した結果を得る\n",
    "- `df.apply(func)` では関数を引数に取る\n",
    "- この関数は `func(1行文のSeries)` みたいなものを作って入れる\n",
    "- あとは `df.apply` の中の処理でこの関数を使って処理したデータを作ってくれる"
   ]
  },
  {
   "cell_type": "code",
   "execution_count": 92,
   "metadata": {},
   "outputs": [],
   "source": [
    "# df.apply(func)\n",
    "def to_date(line):\n",
    "    date_str = line['date_str']\n",
    "    return pd.to_datetime(date_str, format='%Y年%m月', errors='ignore')"
   ]
  },
  {
   "cell_type": "code",
   "execution_count": 93,
   "metadata": {
    "scrolled": true
   },
   "outputs": [
    {
     "data": {
      "text/plain": [
       "0   2012-01-01\n",
       "1   2012-02-01\n",
       "2   2012-03-01\n",
       "3   2012-04-01\n",
       "4   2012-05-01\n",
       "dtype: datetime64[ns]"
      ]
     },
     "execution_count": 93,
     "metadata": {},
     "output_type": "execute_result"
    }
   ],
   "source": [
    "date = df.apply(to_date,axis=1)\n",
    "date.head()"
   ]
  },
  {
   "cell_type": "code",
   "execution_count": 94,
   "metadata": {},
   "outputs": [
    {
     "data": {
      "text/plain": [
       "pandas.core.series.Series"
      ]
     },
     "execution_count": 94,
     "metadata": {},
     "output_type": "execute_result"
    }
   ],
   "source": [
    "date.__class__"
   ]
  },
  {
   "cell_type": "markdown",
   "metadata": {},
   "source": [
    "変換できた"
   ]
  },
  {
   "cell_type": "markdown",
   "metadata": {},
   "source": [
    "### 先程のpd.to_datetime関数\n",
    "https://pandas.pydata.org/pandas-docs/stable/generated/pandas.to_datetime.html\n",
    "\n",
    "```\n",
    "arg : integer, float, string, datetime, list, tuple, 1-d array, Series\n",
    "```\n",
    "→Seriesが渡せるっぽい"
   ]
  },
  {
   "cell_type": "code",
   "execution_count": 95,
   "metadata": {},
   "outputs": [
    {
     "data": {
      "text/plain": [
       "0   2012-01-01\n",
       "1   2012-02-01\n",
       "2   2012-03-01\n",
       "3   2012-04-01\n",
       "4   2012-05-01\n",
       "Name: date_str, dtype: datetime64[ns]"
      ]
     },
     "execution_count": 95,
     "metadata": {},
     "output_type": "execute_result"
    }
   ],
   "source": [
    "data = pd.to_datetime(df['date_str'], format='%Y年%m月', errors='ignore')\n",
    "data.head()"
   ]
  },
  {
   "cell_type": "markdown",
   "metadata": {},
   "source": [
    "df.applyとかしなくても変換できた。"
   ]
  },
  {
   "cell_type": "code",
   "execution_count": 18,
   "metadata": {},
   "outputs": [
    {
     "data": {
      "text/plain": [
       "pandas.core.series.Series"
      ]
     },
     "execution_count": 18,
     "metadata": {},
     "output_type": "execute_result"
    }
   ],
   "source": [
    "data.__class__"
   ]
  },
  {
   "cell_type": "code",
   "execution_count": 96,
   "metadata": {},
   "outputs": [
    {
     "data": {
      "text/html": [
       "<div>\n",
       "<style scoped>\n",
       "    .dataframe tbody tr th:only-of-type {\n",
       "        vertical-align: middle;\n",
       "    }\n",
       "\n",
       "    .dataframe tbody tr th {\n",
       "        vertical-align: top;\n",
       "    }\n",
       "\n",
       "    .dataframe thead th {\n",
       "        text-align: right;\n",
       "    }\n",
       "</style>\n",
       "<table border=\"1\" class=\"dataframe\">\n",
       "  <thead>\n",
       "    <tr style=\"text-align: right;\">\n",
       "      <th></th>\n",
       "      <th>date_str</th>\n",
       "      <th>平均気温(℃)</th>\n",
       "      <th>最高気温(℃)</th>\n",
       "      <th>最低気温(℃)</th>\n",
       "      <th>降水量の合計(mm)</th>\n",
       "      <th>日照率(％)</th>\n",
       "      <th>平均風速(m/s)</th>\n",
       "      <th>日照時間(時間)</th>\n",
       "    </tr>\n",
       "  </thead>\n",
       "  <tbody>\n",
       "    <tr>\n",
       "      <th>2012-01-01</th>\n",
       "      <td>2012年1月</td>\n",
       "      <td>4.4</td>\n",
       "      <td>11.5</td>\n",
       "      <td>-1.9</td>\n",
       "      <td>47.0</td>\n",
       "      <td>57.0</td>\n",
       "      <td>3.3</td>\n",
       "      <td>176.4</td>\n",
       "    </tr>\n",
       "    <tr>\n",
       "      <th>2012-02-01</th>\n",
       "      <td>2012年2月</td>\n",
       "      <td>5.2</td>\n",
       "      <td>17.4</td>\n",
       "      <td>-1.6</td>\n",
       "      <td>103.5</td>\n",
       "      <td>46.0</td>\n",
       "      <td>3.3</td>\n",
       "      <td>143.5</td>\n",
       "    </tr>\n",
       "    <tr>\n",
       "      <th>2012-03-01</th>\n",
       "      <td>2012年3月</td>\n",
       "      <td>8.7</td>\n",
       "      <td>20.4</td>\n",
       "      <td>2.0</td>\n",
       "      <td>134.0</td>\n",
       "      <td>39.0</td>\n",
       "      <td>3.8</td>\n",
       "      <td>143.0</td>\n",
       "    </tr>\n",
       "    <tr>\n",
       "      <th>2012-04-01</th>\n",
       "      <td>2012年4月</td>\n",
       "      <td>14.0</td>\n",
       "      <td>24.3</td>\n",
       "      <td>4.5</td>\n",
       "      <td>111.0</td>\n",
       "      <td>42.0</td>\n",
       "      <td>4.2</td>\n",
       "      <td>165.8</td>\n",
       "    </tr>\n",
       "    <tr>\n",
       "      <th>2012-05-01</th>\n",
       "      <td>2012年5月</td>\n",
       "      <td>19.2</td>\n",
       "      <td>27.4</td>\n",
       "      <td>10.5</td>\n",
       "      <td>169.0</td>\n",
       "      <td>45.0</td>\n",
       "      <td>4.0</td>\n",
       "      <td>195.1</td>\n",
       "    </tr>\n",
       "  </tbody>\n",
       "</table>\n",
       "</div>"
      ],
      "text/plain": [
       "           date_str  平均気温(℃)  最高気温(℃)  最低気温(℃)  降水量の合計(mm)  日照率(％)  平均風速(m/s)  \\\n",
       "2012-01-01  2012年1月      4.4     11.5     -1.9        47.0    57.0        3.3   \n",
       "2012-02-01  2012年2月      5.2     17.4     -1.6       103.5    46.0        3.3   \n",
       "2012-03-01  2012年3月      8.7     20.4      2.0       134.0    39.0        3.8   \n",
       "2012-04-01  2012年4月     14.0     24.3      4.5       111.0    42.0        4.2   \n",
       "2012-05-01  2012年5月     19.2     27.4     10.5       169.0    45.0        4.0   \n",
       "\n",
       "            日照時間(時間)  \n",
       "2012-01-01     176.4  \n",
       "2012-02-01     143.5  \n",
       "2012-03-01     143.0  \n",
       "2012-04-01     165.8  \n",
       "2012-05-01     195.1  "
      ]
     },
     "execution_count": 96,
     "metadata": {},
     "output_type": "execute_result"
    }
   ],
   "source": [
    "# この行のラベルって0〜nより日付のほうがよくない?\n",
    "# indexを付け替える\n",
    "# ｇ\n",
    "df.index = date\n",
    "df.head()"
   ]
  },
  {
   "cell_type": "code",
   "execution_count": 42,
   "metadata": {},
   "outputs": [
    {
     "data": {
      "text/html": [
       "<div>\n",
       "<style scoped>\n",
       "    .dataframe tbody tr th:only-of-type {\n",
       "        vertical-align: middle;\n",
       "    }\n",
       "\n",
       "    .dataframe tbody tr th {\n",
       "        vertical-align: top;\n",
       "    }\n",
       "\n",
       "    .dataframe thead th {\n",
       "        text-align: right;\n",
       "    }\n",
       "</style>\n",
       "<table border=\"1\" class=\"dataframe\">\n",
       "  <thead>\n",
       "    <tr style=\"text-align: right;\">\n",
       "      <th></th>\n",
       "      <th>date_str</th>\n",
       "      <th>平均気温(℃)</th>\n",
       "      <th>最高気温(℃)</th>\n",
       "      <th>最低気温(℃)</th>\n",
       "      <th>降水量の合計(mm)</th>\n",
       "      <th>日照率(％)</th>\n",
       "      <th>平均風速(m/s)</th>\n",
       "      <th>日照時間(時間)</th>\n",
       "    </tr>\n",
       "  </thead>\n",
       "  <tbody>\n",
       "    <tr>\n",
       "      <th>2015-01-01</th>\n",
       "      <td>2015年1月</td>\n",
       "      <td>6.5</td>\n",
       "      <td>17.2</td>\n",
       "      <td>0.0</td>\n",
       "      <td>91.5</td>\n",
       "      <td>61.0</td>\n",
       "      <td>4.1</td>\n",
       "      <td>190.1</td>\n",
       "    </tr>\n",
       "    <tr>\n",
       "      <th>2015-02-01</th>\n",
       "      <td>2015年2月</td>\n",
       "      <td>6.2</td>\n",
       "      <td>19.9</td>\n",
       "      <td>-0.8</td>\n",
       "      <td>62.0</td>\n",
       "      <td>55.0</td>\n",
       "      <td>3.7</td>\n",
       "      <td>166.5</td>\n",
       "    </tr>\n",
       "    <tr>\n",
       "      <th>2015-03-01</th>\n",
       "      <td>2015年3月</td>\n",
       "      <td>10.5</td>\n",
       "      <td>21.1</td>\n",
       "      <td>1.4</td>\n",
       "      <td>103.0</td>\n",
       "      <td>51.0</td>\n",
       "      <td>4.1</td>\n",
       "      <td>188.6</td>\n",
       "    </tr>\n",
       "    <tr>\n",
       "      <th>2015-04-01</th>\n",
       "      <td>2015年4月</td>\n",
       "      <td>14.5</td>\n",
       "      <td>24.0</td>\n",
       "      <td>1.8</td>\n",
       "      <td>118.5</td>\n",
       "      <td>38.0</td>\n",
       "      <td>4.2</td>\n",
       "      <td>149.3</td>\n",
       "    </tr>\n",
       "    <tr>\n",
       "      <th>2015-05-01</th>\n",
       "      <td>2015年5月</td>\n",
       "      <td>21.0</td>\n",
       "      <td>31.6</td>\n",
       "      <td>11.7</td>\n",
       "      <td>72.5</td>\n",
       "      <td>55.0</td>\n",
       "      <td>4.1</td>\n",
       "      <td>237.2</td>\n",
       "    </tr>\n",
       "    <tr>\n",
       "      <th>2015-06-01</th>\n",
       "      <td>2015年6月</td>\n",
       "      <td>22.2</td>\n",
       "      <td>29.8</td>\n",
       "      <td>13.6</td>\n",
       "      <td>161.5</td>\n",
       "      <td>34.0</td>\n",
       "      <td>3.4</td>\n",
       "      <td>145.8</td>\n",
       "    </tr>\n",
       "    <tr>\n",
       "      <th>2015-07-01</th>\n",
       "      <td>2015年7月</td>\n",
       "      <td>26.3</td>\n",
       "      <td>35.4</td>\n",
       "      <td>19.1</td>\n",
       "      <td>255.0</td>\n",
       "      <td>46.0</td>\n",
       "      <td>4.5</td>\n",
       "      <td>201.5</td>\n",
       "    </tr>\n",
       "    <tr>\n",
       "      <th>2015-08-01</th>\n",
       "      <td>2015年8月</td>\n",
       "      <td>26.8</td>\n",
       "      <td>38.5</td>\n",
       "      <td>19.3</td>\n",
       "      <td>105.0</td>\n",
       "      <td>38.0</td>\n",
       "      <td>3.8</td>\n",
       "      <td>159.1</td>\n",
       "    </tr>\n",
       "    <tr>\n",
       "      <th>2015-09-01</th>\n",
       "      <td>2015年9月</td>\n",
       "      <td>23.0</td>\n",
       "      <td>30.2</td>\n",
       "      <td>16.7</td>\n",
       "      <td>403.5</td>\n",
       "      <td>33.0</td>\n",
       "      <td>3.5</td>\n",
       "      <td>122.4</td>\n",
       "    </tr>\n",
       "    <tr>\n",
       "      <th>2015-10-01</th>\n",
       "      <td>2015年10月</td>\n",
       "      <td>19.0</td>\n",
       "      <td>28.9</td>\n",
       "      <td>10.7</td>\n",
       "      <td>62.0</td>\n",
       "      <td>55.0</td>\n",
       "      <td>3.6</td>\n",
       "      <td>192.1</td>\n",
       "    </tr>\n",
       "    <tr>\n",
       "      <th>2015-11-01</th>\n",
       "      <td>2015年11月</td>\n",
       "      <td>14.7</td>\n",
       "      <td>23.6</td>\n",
       "      <td>5.6</td>\n",
       "      <td>129.0</td>\n",
       "      <td>40.0</td>\n",
       "      <td>3.0</td>\n",
       "      <td>124.1</td>\n",
       "    </tr>\n",
       "    <tr>\n",
       "      <th>2015-12-01</th>\n",
       "      <td>2015年12月</td>\n",
       "      <td>10.1</td>\n",
       "      <td>23.9</td>\n",
       "      <td>1.7</td>\n",
       "      <td>52.0</td>\n",
       "      <td>52.0</td>\n",
       "      <td>3.2</td>\n",
       "      <td>157.4</td>\n",
       "    </tr>\n",
       "  </tbody>\n",
       "</table>\n",
       "</div>"
      ],
      "text/plain": [
       "            date_str  平均気温(℃)  最高気温(℃)  最低気温(℃)  降水量の合計(mm)  日照率(％)  \\\n",
       "2015-01-01   2015年1月      6.5     17.2      0.0        91.5    61.0   \n",
       "2015-02-01   2015年2月      6.2     19.9     -0.8        62.0    55.0   \n",
       "2015-03-01   2015年3月     10.5     21.1      1.4       103.0    51.0   \n",
       "2015-04-01   2015年4月     14.5     24.0      1.8       118.5    38.0   \n",
       "2015-05-01   2015年5月     21.0     31.6     11.7        72.5    55.0   \n",
       "2015-06-01   2015年6月     22.2     29.8     13.6       161.5    34.0   \n",
       "2015-07-01   2015年7月     26.3     35.4     19.1       255.0    46.0   \n",
       "2015-08-01   2015年8月     26.8     38.5     19.3       105.0    38.0   \n",
       "2015-09-01   2015年9月     23.0     30.2     16.7       403.5    33.0   \n",
       "2015-10-01  2015年10月     19.0     28.9     10.7        62.0    55.0   \n",
       "2015-11-01  2015年11月     14.7     23.6      5.6       129.0    40.0   \n",
       "2015-12-01  2015年12月     10.1     23.9      1.7        52.0    52.0   \n",
       "\n",
       "            平均風速(m/s)  日照時間(時間)  \n",
       "2015-01-01        4.1     190.1  \n",
       "2015-02-01        3.7     166.5  \n",
       "2015-03-01        4.1     188.6  \n",
       "2015-04-01        4.2     149.3  \n",
       "2015-05-01        4.1     237.2  \n",
       "2015-06-01        3.4     145.8  \n",
       "2015-07-01        4.5     201.5  \n",
       "2015-08-01        3.8     159.1  \n",
       "2015-09-01        3.5     122.4  \n",
       "2015-10-01        3.6     192.1  \n",
       "2015-11-01        3.0     124.1  \n",
       "2015-12-01        3.2     157.4  "
      ]
     },
     "execution_count": 42,
     "metadata": {},
     "output_type": "execute_result"
    }
   ],
   "source": [
    "# 2015年で絞込\n",
    "df.loc['2015-01-01':'2015-12-01']"
   ]
  },
  {
   "cell_type": "code",
   "execution_count": 45,
   "metadata": {},
   "outputs": [
    {
     "data": {
      "text/plain": [
       "<matplotlib.axes._subplots.AxesSubplot at 0x7fd3f8c33358>"
      ]
     },
     "execution_count": 45,
     "metadata": {},
     "output_type": "execute_result"
    },
    {
     "data": {
      "image/png": "[encoded data removed]",
      "text/plain": [
       "<matplotlib.figure.Figure at 0x7fd3f6bac7f0>"
      ]
     },
     "metadata": {},
     "output_type": "display_data"
    }
   ],
   "source": [
    "%matplotlib inline\n",
    "df.loc['2015-01-01':'2015-12-01']['平均気温(℃)'].plot()"
   ]
  },
  {
   "cell_type": "code",
   "execution_count": 58,
   "metadata": {},
   "outputs": [],
   "source": [
    "# indexをdateに置き換える\n",
    "df.index=date"
   ]
  },
  {
   "cell_type": "code",
   "execution_count": 61,
   "metadata": {},
   "outputs": [
    {
     "data": {
      "text/html": [
       "<div>\n",
       "<style scoped>\n",
       "    .dataframe tbody tr th:only-of-type {\n",
       "        vertical-align: middle;\n",
       "    }\n",
       "\n",
       "    .dataframe tbody tr th {\n",
       "        vertical-align: top;\n",
       "    }\n",
       "\n",
       "    .dataframe thead th {\n",
       "        text-align: right;\n",
       "    }\n",
       "</style>\n",
       "<table border=\"1\" class=\"dataframe\">\n",
       "  <thead>\n",
       "    <tr style=\"text-align: right;\">\n",
       "      <th></th>\n",
       "      <th>平均気温(℃)</th>\n",
       "      <th>最高気温(℃)</th>\n",
       "      <th>最低気温(℃)</th>\n",
       "      <th>降水量の合計(mm)</th>\n",
       "      <th>日照率(％)</th>\n",
       "      <th>平均風速(m/s)</th>\n",
       "      <th>日照時間(時間)</th>\n",
       "    </tr>\n",
       "  </thead>\n",
       "  <tbody>\n",
       "    <tr>\n",
       "      <th>2012-01-01</th>\n",
       "      <td>4.4</td>\n",
       "      <td>11.5</td>\n",
       "      <td>-1.9</td>\n",
       "      <td>47.0</td>\n",
       "      <td>57.0</td>\n",
       "      <td>3.3</td>\n",
       "      <td>176.4</td>\n",
       "    </tr>\n",
       "    <tr>\n",
       "      <th>2012-02-01</th>\n",
       "      <td>5.2</td>\n",
       "      <td>17.4</td>\n",
       "      <td>-1.6</td>\n",
       "      <td>103.5</td>\n",
       "      <td>46.0</td>\n",
       "      <td>3.3</td>\n",
       "      <td>143.5</td>\n",
       "    </tr>\n",
       "    <tr>\n",
       "      <th>2012-03-01</th>\n",
       "      <td>8.7</td>\n",
       "      <td>20.4</td>\n",
       "      <td>2.0</td>\n",
       "      <td>134.0</td>\n",
       "      <td>39.0</td>\n",
       "      <td>3.8</td>\n",
       "      <td>143.0</td>\n",
       "    </tr>\n",
       "    <tr>\n",
       "      <th>2012-04-01</th>\n",
       "      <td>14.0</td>\n",
       "      <td>24.3</td>\n",
       "      <td>4.5</td>\n",
       "      <td>111.0</td>\n",
       "      <td>42.0</td>\n",
       "      <td>4.2</td>\n",
       "      <td>165.8</td>\n",
       "    </tr>\n",
       "    <tr>\n",
       "      <th>2012-05-01</th>\n",
       "      <td>19.2</td>\n",
       "      <td>27.4</td>\n",
       "      <td>10.5</td>\n",
       "      <td>169.0</td>\n",
       "      <td>45.0</td>\n",
       "      <td>4.0</td>\n",
       "      <td>195.1</td>\n",
       "    </tr>\n",
       "  </tbody>\n",
       "</table>\n",
       "</div>"
      ],
      "text/plain": [
       "            平均気温(℃)  最高気温(℃)  最低気温(℃)  降水量の合計(mm)  日照率(％)  平均風速(m/s)  日照時間(時間)\n",
       "2012-01-01      4.4     11.5     -1.9        47.0    57.0        3.3     176.4\n",
       "2012-02-01      5.2     17.4     -1.6       103.5    46.0        3.3     143.5\n",
       "2012-03-01      8.7     20.4      2.0       134.0    39.0        3.8     143.0\n",
       "2012-04-01     14.0     24.3      4.5       111.0    42.0        4.2     165.8\n",
       "2012-05-01     19.2     27.4     10.5       169.0    45.0        4.0     195.1"
      ]
     },
     "execution_count": 61,
     "metadata": {},
     "output_type": "execute_result"
    }
   ],
   "source": [
    "df.head\n",
    "del df['date_str']"
   ]
  },
  {
   "cell_type": "code",
   "execution_count": 62,
   "metadata": {},
   "outputs": [
    {
     "data": {
      "text/html": [
       "<div>\n",
       "<style scoped>\n",
       "    .dataframe tbody tr th:only-of-type {\n",
       "        vertical-align: middle;\n",
       "    }\n",
       "\n",
       "    .dataframe tbody tr th {\n",
       "        vertical-align: top;\n",
       "    }\n",
       "\n",
       "    .dataframe thead th {\n",
       "        text-align: right;\n",
       "    }\n",
       "</style>\n",
       "<table border=\"1\" class=\"dataframe\">\n",
       "  <thead>\n",
       "    <tr style=\"text-align: right;\">\n",
       "      <th></th>\n",
       "      <th>平均気温(℃)</th>\n",
       "      <th>最高気温(℃)</th>\n",
       "      <th>最低気温(℃)</th>\n",
       "      <th>降水量の合計(mm)</th>\n",
       "      <th>日照率(％)</th>\n",
       "      <th>平均風速(m/s)</th>\n",
       "      <th>日照時間(時間)</th>\n",
       "    </tr>\n",
       "  </thead>\n",
       "  <tbody>\n",
       "    <tr>\n",
       "      <th>2012-01-01</th>\n",
       "      <td>4.4</td>\n",
       "      <td>11.5</td>\n",
       "      <td>-1.9</td>\n",
       "      <td>47.0</td>\n",
       "      <td>57.0</td>\n",
       "      <td>3.3</td>\n",
       "      <td>176.4</td>\n",
       "    </tr>\n",
       "    <tr>\n",
       "      <th>2012-02-01</th>\n",
       "      <td>5.2</td>\n",
       "      <td>17.4</td>\n",
       "      <td>-1.6</td>\n",
       "      <td>103.5</td>\n",
       "      <td>46.0</td>\n",
       "      <td>3.3</td>\n",
       "      <td>143.5</td>\n",
       "    </tr>\n",
       "    <tr>\n",
       "      <th>2012-03-01</th>\n",
       "      <td>8.7</td>\n",
       "      <td>20.4</td>\n",
       "      <td>2.0</td>\n",
       "      <td>134.0</td>\n",
       "      <td>39.0</td>\n",
       "      <td>3.8</td>\n",
       "      <td>143.0</td>\n",
       "    </tr>\n",
       "    <tr>\n",
       "      <th>2012-04-01</th>\n",
       "      <td>14.0</td>\n",
       "      <td>24.3</td>\n",
       "      <td>4.5</td>\n",
       "      <td>111.0</td>\n",
       "      <td>42.0</td>\n",
       "      <td>4.2</td>\n",
       "      <td>165.8</td>\n",
       "    </tr>\n",
       "    <tr>\n",
       "      <th>2012-05-01</th>\n",
       "      <td>19.2</td>\n",
       "      <td>27.4</td>\n",
       "      <td>10.5</td>\n",
       "      <td>169.0</td>\n",
       "      <td>45.0</td>\n",
       "      <td>4.0</td>\n",
       "      <td>195.1</td>\n",
       "    </tr>\n",
       "  </tbody>\n",
       "</table>\n",
       "</div>"
      ],
      "text/plain": [
       "            平均気温(℃)  最高気温(℃)  最低気温(℃)  降水量の合計(mm)  日照率(％)  平均風速(m/s)  日照時間(時間)\n",
       "2012-01-01      4.4     11.5     -1.9        47.0    57.0        3.3     176.4\n",
       "2012-02-01      5.2     17.4     -1.6       103.5    46.0        3.3     143.5\n",
       "2012-03-01      8.7     20.4      2.0       134.0    39.0        3.8     143.0\n",
       "2012-04-01     14.0     24.3      4.5       111.0    42.0        4.2     165.8\n",
       "2012-05-01     19.2     27.4     10.5       169.0    45.0        4.0     195.1"
      ]
     },
     "execution_count": 62,
     "metadata": {},
     "output_type": "execute_result"
    }
   ],
   "source": [
    "df.head()"
   ]
  },
  {
   "cell_type": "code",
   "execution_count": 70,
   "metadata": {},
   "outputs": [
    {
     "ename": "KeyError",
     "evalue": "'2012-02-01'",
     "output_type": "error",
     "traceback": [
      "\u001b[0;31m---------------------------------------------------------------------------\u001b[0m",
      "\u001b[0;31mKeyError\u001b[0m                                  Traceback (most recent call last)",
      "\u001b[0;32m~/.pyenv/versions/3.6.2/lib/python3.6/site-packages/pandas/core/indexes/base.py\u001b[0m in \u001b[0;36mget_loc\u001b[0;34m(self, key, method, tolerance)\u001b[0m\n\u001b[1;32m   2521\u001b[0m             \u001b[0;32mtry\u001b[0m\u001b[0;34m:\u001b[0m\u001b[0;34m\u001b[0m\u001b[0m\n\u001b[0;32m-> 2522\u001b[0;31m                 \u001b[0;32mreturn\u001b[0m \u001b[0mself\u001b[0m\u001b[0;34m.\u001b[0m\u001b[0m_engine\u001b[0m\u001b[0;34m.\u001b[0m\u001b[0mget_loc\u001b[0m\u001b[0;34m(\u001b[0m\u001b[0mkey\u001b[0m\u001b[0;34m)\u001b[0m\u001b[0;34m\u001b[0m\u001b[0m\n\u001b[0m\u001b[1;32m   2523\u001b[0m             \u001b[0;32mexcept\u001b[0m \u001b[0mKeyError\u001b[0m\u001b[0;34m:\u001b[0m\u001b[0;34m\u001b[0m\u001b[0m\n",
      "\u001b[0;32mpandas/_libs/index.pyx\u001b[0m in \u001b[0;36mpandas._libs.index.IndexEngine.get_loc\u001b[0;34m()\u001b[0m\n",
      "\u001b[0;32mpandas/_libs/index.pyx\u001b[0m in \u001b[0;36mpandas._libs.index.IndexEngine.get_loc\u001b[0;34m()\u001b[0m\n",
      "\u001b[0;32mpandas/_libs/hashtable_class_helper.pxi\u001b[0m in \u001b[0;36mpandas._libs.hashtable.PyObjectHashTable.get_item\u001b[0;34m()\u001b[0m\n",
      "\u001b[0;32mpandas/_libs/hashtable_class_helper.pxi\u001b[0m in \u001b[0;36mpandas._libs.hashtable.PyObjectHashTable.get_item\u001b[0;34m()\u001b[0m\n",
      "\u001b[0;31mKeyError\u001b[0m: '2012-02-01'",
      "\nDuring handling of the above exception, another exception occurred:\n",
      "\u001b[0;31mKeyError\u001b[0m                                  Traceback (most recent call last)",
      "\u001b[0;32m<ipython-input-70-cd5cdcd392fb>\u001b[0m in \u001b[0;36m<module>\u001b[0;34m()\u001b[0m\n\u001b[1;32m      1\u001b[0m \u001b[0mget_ipython\u001b[0m\u001b[0;34m(\u001b[0m\u001b[0;34m)\u001b[0m\u001b[0;34m.\u001b[0m\u001b[0mrun_line_magic\u001b[0m\u001b[0;34m(\u001b[0m\u001b[0;34m'matplotlib'\u001b[0m\u001b[0;34m,\u001b[0m \u001b[0;34m'inline'\u001b[0m\u001b[0;34m)\u001b[0m\u001b[0;34m\u001b[0m\u001b[0m\n\u001b[0;32m----> 2\u001b[0;31m \u001b[0mdf\u001b[0m\u001b[0;34m[\u001b[0m\u001b[0;34m'2012-02-01'\u001b[0m\u001b[0;34m]\u001b[0m\u001b[0;34m\u001b[0m\u001b[0m\n\u001b[0m",
      "\u001b[0;32m~/.pyenv/versions/3.6.2/lib/python3.6/site-packages/pandas/core/frame.py\u001b[0m in \u001b[0;36m__getitem__\u001b[0;34m(self, key)\u001b[0m\n\u001b[1;32m   2137\u001b[0m             \u001b[0;32mreturn\u001b[0m \u001b[0mself\u001b[0m\u001b[0;34m.\u001b[0m\u001b[0m_getitem_multilevel\u001b[0m\u001b[0;34m(\u001b[0m\u001b[0mkey\u001b[0m\u001b[0;34m)\u001b[0m\u001b[0;34m\u001b[0m\u001b[0m\n\u001b[1;32m   2138\u001b[0m         \u001b[0;32melse\u001b[0m\u001b[0;34m:\u001b[0m\u001b[0;34m\u001b[0m\u001b[0m\n\u001b[0;32m-> 2139\u001b[0;31m             \u001b[0;32mreturn\u001b[0m \u001b[0mself\u001b[0m\u001b[0;34m.\u001b[0m\u001b[0m_getitem_column\u001b[0m\u001b[0;34m(\u001b[0m\u001b[0mkey\u001b[0m\u001b[0;34m)\u001b[0m\u001b[0;34m\u001b[0m\u001b[0m\n\u001b[0m\u001b[1;32m   2140\u001b[0m \u001b[0;34m\u001b[0m\u001b[0m\n\u001b[1;32m   2141\u001b[0m     \u001b[0;32mdef\u001b[0m \u001b[0m_getitem_column\u001b[0m\u001b[0;34m(\u001b[0m\u001b[0mself\u001b[0m\u001b[0;34m,\u001b[0m \u001b[0mkey\u001b[0m\u001b[0;34m)\u001b[0m\u001b[0;34m:\u001b[0m\u001b[0;34m\u001b[0m\u001b[0m\n",
      "\u001b[0;32m~/.pyenv/versions/3.6.2/lib/python3.6/site-packages/pandas/core/frame.py\u001b[0m in \u001b[0;36m_getitem_column\u001b[0;34m(self, key)\u001b[0m\n\u001b[1;32m   2144\u001b[0m         \u001b[0;31m# get column\u001b[0m\u001b[0;34m\u001b[0m\u001b[0;34m\u001b[0m\u001b[0m\n\u001b[1;32m   2145\u001b[0m         \u001b[0;32mif\u001b[0m \u001b[0mself\u001b[0m\u001b[0;34m.\u001b[0m\u001b[0mcolumns\u001b[0m\u001b[0;34m.\u001b[0m\u001b[0mis_unique\u001b[0m\u001b[0;34m:\u001b[0m\u001b[0;34m\u001b[0m\u001b[0m\n\u001b[0;32m-> 2146\u001b[0;31m             \u001b[0;32mreturn\u001b[0m \u001b[0mself\u001b[0m\u001b[0;34m.\u001b[0m\u001b[0m_get_item_cache\u001b[0m\u001b[0;34m(\u001b[0m\u001b[0mkey\u001b[0m\u001b[0;34m)\u001b[0m\u001b[0;34m\u001b[0m\u001b[0m\n\u001b[0m\u001b[1;32m   2147\u001b[0m \u001b[0;34m\u001b[0m\u001b[0m\n\u001b[1;32m   2148\u001b[0m         \u001b[0;31m# duplicate columns & possible reduce dimensionality\u001b[0m\u001b[0;34m\u001b[0m\u001b[0;34m\u001b[0m\u001b[0m\n",
      "\u001b[0;32m~/.pyenv/versions/3.6.2/lib/python3.6/site-packages/pandas/core/generic.py\u001b[0m in \u001b[0;36m_get_item_cache\u001b[0;34m(self, item)\u001b[0m\n\u001b[1;32m   1840\u001b[0m         \u001b[0mres\u001b[0m \u001b[0;34m=\u001b[0m \u001b[0mcache\u001b[0m\u001b[0;34m.\u001b[0m\u001b[0mget\u001b[0m\u001b[0;34m(\u001b[0m\u001b[0mitem\u001b[0m\u001b[0;34m)\u001b[0m\u001b[0;34m\u001b[0m\u001b[0m\n\u001b[1;32m   1841\u001b[0m         \u001b[0;32mif\u001b[0m \u001b[0mres\u001b[0m \u001b[0;32mis\u001b[0m \u001b[0;32mNone\u001b[0m\u001b[0;34m:\u001b[0m\u001b[0;34m\u001b[0m\u001b[0m\n\u001b[0;32m-> 1842\u001b[0;31m             \u001b[0mvalues\u001b[0m \u001b[0;34m=\u001b[0m \u001b[0mself\u001b[0m\u001b[0;34m.\u001b[0m\u001b[0m_data\u001b[0m\u001b[0;34m.\u001b[0m\u001b[0mget\u001b[0m\u001b[0;34m(\u001b[0m\u001b[0mitem\u001b[0m\u001b[0;34m)\u001b[0m\u001b[0;34m\u001b[0m\u001b[0m\n\u001b[0m\u001b[1;32m   1843\u001b[0m             \u001b[0mres\u001b[0m \u001b[0;34m=\u001b[0m \u001b[0mself\u001b[0m\u001b[0;34m.\u001b[0m\u001b[0m_box_item_values\u001b[0m\u001b[0;34m(\u001b[0m\u001b[0mitem\u001b[0m\u001b[0;34m,\u001b[0m \u001b[0mvalues\u001b[0m\u001b[0;34m)\u001b[0m\u001b[0;34m\u001b[0m\u001b[0m\n\u001b[1;32m   1844\u001b[0m             \u001b[0mcache\u001b[0m\u001b[0;34m[\u001b[0m\u001b[0mitem\u001b[0m\u001b[0;34m]\u001b[0m \u001b[0;34m=\u001b[0m \u001b[0mres\u001b[0m\u001b[0;34m\u001b[0m\u001b[0m\n",
      "\u001b[0;32m~/.pyenv/versions/3.6.2/lib/python3.6/site-packages/pandas/core/internals.py\u001b[0m in \u001b[0;36mget\u001b[0;34m(self, item, fastpath)\u001b[0m\n\u001b[1;32m   3836\u001b[0m \u001b[0;34m\u001b[0m\u001b[0m\n\u001b[1;32m   3837\u001b[0m             \u001b[0;32mif\u001b[0m \u001b[0;32mnot\u001b[0m \u001b[0misna\u001b[0m\u001b[0;34m(\u001b[0m\u001b[0mitem\u001b[0m\u001b[0;34m)\u001b[0m\u001b[0;34m:\u001b[0m\u001b[0;34m\u001b[0m\u001b[0m\n\u001b[0;32m-> 3838\u001b[0;31m                 \u001b[0mloc\u001b[0m \u001b[0;34m=\u001b[0m \u001b[0mself\u001b[0m\u001b[0;34m.\u001b[0m\u001b[0mitems\u001b[0m\u001b[0;34m.\u001b[0m\u001b[0mget_loc\u001b[0m\u001b[0;34m(\u001b[0m\u001b[0mitem\u001b[0m\u001b[0;34m)\u001b[0m\u001b[0;34m\u001b[0m\u001b[0m\n\u001b[0m\u001b[1;32m   3839\u001b[0m             \u001b[0;32melse\u001b[0m\u001b[0;34m:\u001b[0m\u001b[0;34m\u001b[0m\u001b[0m\n\u001b[1;32m   3840\u001b[0m                 \u001b[0mindexer\u001b[0m \u001b[0;34m=\u001b[0m \u001b[0mnp\u001b[0m\u001b[0;34m.\u001b[0m\u001b[0marange\u001b[0m\u001b[0;34m(\u001b[0m\u001b[0mlen\u001b[0m\u001b[0;34m(\u001b[0m\u001b[0mself\u001b[0m\u001b[0;34m.\u001b[0m\u001b[0mitems\u001b[0m\u001b[0;34m)\u001b[0m\u001b[0;34m)\u001b[0m\u001b[0;34m[\u001b[0m\u001b[0misna\u001b[0m\u001b[0;34m(\u001b[0m\u001b[0mself\u001b[0m\u001b[0;34m.\u001b[0m\u001b[0mitems\u001b[0m\u001b[0;34m)\u001b[0m\u001b[0;34m]\u001b[0m\u001b[0;34m\u001b[0m\u001b[0m\n",
      "\u001b[0;32m~/.pyenv/versions/3.6.2/lib/python3.6/site-packages/pandas/core/indexes/base.py\u001b[0m in \u001b[0;36mget_loc\u001b[0;34m(self, key, method, tolerance)\u001b[0m\n\u001b[1;32m   2522\u001b[0m                 \u001b[0;32mreturn\u001b[0m \u001b[0mself\u001b[0m\u001b[0;34m.\u001b[0m\u001b[0m_engine\u001b[0m\u001b[0;34m.\u001b[0m\u001b[0mget_loc\u001b[0m\u001b[0;34m(\u001b[0m\u001b[0mkey\u001b[0m\u001b[0;34m)\u001b[0m\u001b[0;34m\u001b[0m\u001b[0m\n\u001b[1;32m   2523\u001b[0m             \u001b[0;32mexcept\u001b[0m \u001b[0mKeyError\u001b[0m\u001b[0;34m:\u001b[0m\u001b[0;34m\u001b[0m\u001b[0m\n\u001b[0;32m-> 2524\u001b[0;31m                 \u001b[0;32mreturn\u001b[0m \u001b[0mself\u001b[0m\u001b[0;34m.\u001b[0m\u001b[0m_engine\u001b[0m\u001b[0;34m.\u001b[0m\u001b[0mget_loc\u001b[0m\u001b[0;34m(\u001b[0m\u001b[0mself\u001b[0m\u001b[0;34m.\u001b[0m\u001b[0m_maybe_cast_indexer\u001b[0m\u001b[0;34m(\u001b[0m\u001b[0mkey\u001b[0m\u001b[0;34m)\u001b[0m\u001b[0;34m)\u001b[0m\u001b[0;34m\u001b[0m\u001b[0m\n\u001b[0m\u001b[1;32m   2525\u001b[0m \u001b[0;34m\u001b[0m\u001b[0m\n\u001b[1;32m   2526\u001b[0m         \u001b[0mindexer\u001b[0m \u001b[0;34m=\u001b[0m \u001b[0mself\u001b[0m\u001b[0;34m.\u001b[0m\u001b[0mget_indexer\u001b[0m\u001b[0;34m(\u001b[0m\u001b[0;34m[\u001b[0m\u001b[0mkey\u001b[0m\u001b[0;34m]\u001b[0m\u001b[0;34m,\u001b[0m \u001b[0mmethod\u001b[0m\u001b[0;34m=\u001b[0m\u001b[0mmethod\u001b[0m\u001b[0;34m,\u001b[0m \u001b[0mtolerance\u001b[0m\u001b[0;34m=\u001b[0m\u001b[0mtolerance\u001b[0m\u001b[0;34m)\u001b[0m\u001b[0;34m\u001b[0m\u001b[0m\n",
      "\u001b[0;32mpandas/_libs/index.pyx\u001b[0m in \u001b[0;36mpandas._libs.index.IndexEngine.get_loc\u001b[0;34m()\u001b[0m\n",
      "\u001b[0;32mpandas/_libs/index.pyx\u001b[0m in \u001b[0;36mpandas._libs.index.IndexEngine.get_loc\u001b[0;34m()\u001b[0m\n",
      "\u001b[0;32mpandas/_libs/hashtable_class_helper.pxi\u001b[0m in \u001b[0;36mpandas._libs.hashtable.PyObjectHashTable.get_item\u001b[0;34m()\u001b[0m\n",
      "\u001b[0;32mpandas/_libs/hashtable_class_helper.pxi\u001b[0m in \u001b[0;36mpandas._libs.hashtable.PyObjectHashTable.get_item\u001b[0;34m()\u001b[0m\n",
      "\u001b[0;31mKeyError\u001b[0m: '2012-02-01'"
     ]
    }
   ],
   "source": [
    "%matplotlib inline\n",
    "df['2012-02-01']"
   ]
  },
  {
   "cell_type": "code",
   "execution_count": null,
   "metadata": {},
   "outputs": [],
   "source": []
  }
 ],
 "metadata": {
  "kernelspec": {
   "display_name": "Python 3",
   "language": "python",
   "name": "python3"
  },
  "language_info": {
   "codemirror_mode": {
    "name": "ipython",
    "version": 3
   },
   "file_extension": ".py",
   "mimetype": "text/x-python",
   "name": "python",
   "nbconvert_exporter": "python",
   "pygments_lexer": "ipython3",
   "version": "3.6.2"
  }
 },
 "nbformat": 4,
 "nbformat_minor": 2
}
